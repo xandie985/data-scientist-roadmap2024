{
 "cells": [
  {
   "cell_type": "code",
   "execution_count": 2,
   "metadata": {},
   "outputs": [],
   "source": [
    "from typing import List, Optional"
   ]
  },
  {
   "cell_type": "code",
   "execution_count": 3,
   "metadata": {},
   "outputs": [
    {
     "name": "stdout",
     "output_type": "stream",
     "text": [
      "### 1. [Two Sum](https://leetcode.com/problems/two-sum/description/)\n",
      "### 2. [Valid Parentheses](https://leetcode.com/problems/valid-parentheses/description/)\n",
      "### 3. [Merge Two Sorted Lists](https://leetcode.com/problems/merge-two-sorted-lists/description/)\n",
      "### 4.  [Best Time to Buy and Sell Stock](https://leetcode.com/problems/best-time-to-buy-and-sell-stock/description/)\n",
      "### 5. [Valid Palindrome](https://leetcode.com/problems/valid-palindrome/description/)\n",
      "### 6. [Invert Binary Tree](https://leetcode.com/problems/invert-binary-tree/description/)\n",
      "### 7. [Valid Anagram](https://leetcode.com/problems/valid-anagram/description/)\n",
      "### 8. [Binary Search](https://leetcode.com/problems/binary-search/description/)\n",
      "### 9. [Flood Fill](https://leetcode.com/problems/flood-fill/)\n",
      "### 10. [Lowest Common Ancestor of a Binary Search Tree](https://leetcode.com/problems/lowest-common-ancestor-of-a-binary-search-tree/)\n",
      "### 11 [Balanced Binary Tree](https://leetcode.com/problems/balanced-binary-tree/)\n",
      "### 12. [Linked List Cycle](https://leetcode.com/problems/linked-list-cycle/)\n",
      "### 13 [Implement Queue using Stacks](https://leetcode.com/problems/implement-queue-using-stacks/)\n",
      "### 14. [First Bad Version](https://leetcode.com/problems/first-bad-version/)\n",
      "### 15. [Ransom Note](https://leetcode.com/problems/ransom-note/)\n",
      "### 16. [Climbing Stairs](https://leetcode.com/problems/climbing-stairs/)\n",
      "### 17.  [Longest Palindrome](https://leetcode.com/problems/longest-palindrome/)\n",
      "### 18. [Reverse Linked List](https://leetcode.com/problems/reverse-linked-list/)\n",
      "### 19. [Majority Element](https://leetcode.com/problems/majority-element/description/)\n",
      "### 20. [Add Binary](https://leetcode.com/problems/add-binary)\n",
      "### 21. [Diameter of Binary Tree](https://leetcode.com/problems/diameter-of-binary-tree)\n",
      "### 22. [Middle of the Linked List](https://leetcode.com/problems/middle-of-the-linked-list)\n",
      "### 23. [Maximum depth of binary tree](https://leetcode.com/problems/maximum-depth-of-binary-tree)\n",
      "### 24. [Contains Duplicate](https://leetcode.com/problems/contains-duplicate/description/)\n"
     ]
    }
   ],
   "source": [
    "import nbformat\n",
    "\n",
    "def extract_headings(notebook_path):\n",
    "    # Load the notebook\n",
    "    with open(notebook_path, 'r', encoding='utf-8') as f:\n",
    "        notebook = nbformat.read(f, as_version=4)\n",
    "\n",
    "    headings = []\n",
    "\n",
    "    # Iterate through each cell in the notebook\n",
    "    for cell in notebook.cells:\n",
    "        if cell.cell_type == 'markdown':\n",
    "            lines = cell.source.split('\\n')\n",
    "            for line in lines:\n",
    "                if line.startswith('### '):\n",
    "                    # Extract the heading and its level\n",
    "                    level = len(line) - len(line.lstrip('#'))\n",
    "                    heading = line.strip()\n",
    "                    headings.append((level, heading[4:].strip()))\n",
    "\n",
    "    return headings\n",
    "\n",
    "def print_headings(headings):\n",
    "    for level, heading in headings:\n",
    "        print(f\"{'#' * level} {heading}\")\n",
    "\n",
    "if __name__ == \"__main__\":\n",
    "    notebook_path = 'Grind 75.ipynb'  # Replace with your notebook path\n",
    "    headings = extract_headings(notebook_path)\n",
    "    print_headings(headings)"
   ]
  },
  {
   "cell_type": "markdown",
   "metadata": {},
   "source": [
    "# Easy\n",
    "**(24 Questions)**"
   ]
  },
  {
   "cell_type": "markdown",
   "metadata": {},
   "source": [
    "### 1. [Two Sum](https://leetcode.com/problems/two-sum/description/)\n",
    "Given an array of integers nums and an integer target, return indices of the two numbers such that they add up to target.\n",
    "You may assume that each input would have exactly one solution, and you may not use the same element twice.\n",
    "You can return the answer in any order.\n",
    "\n",
    "Example 1:\n",
    "\n",
    "    Input: nums = [2,7,11,15], target = 9\n",
    "    Output: [0,1]\n",
    "    Explanation: Because nums[0] + nums[1] == 9, we return [0, 1].\n",
    "Example 2:\n",
    "\n",
    "    Input: nums = [3,2,4], target = 6\n",
    "    Output: [1,2]\n",
    "Example 3:\n",
    "\n",
    "    Input: nums = [3,3], target = 6\n",
    "    Output: [0,1]\n",
    "---"
   ]
  },
  {
   "cell_type": "markdown",
   "metadata": {},
   "source": [
    "\n",
    "#### Approach 1.1: BruteForce\n",
    "**Time complexity: O(n^2)**\n",
    "- For each element, we try to find its complement by looping through the rest of the array.\n",
    "\n",
    "**Space complexity: O(1)**\n",
    "- The space required while runtime does not depend on the number of elements in the array."
   ]
  },
  {
   "cell_type": "code",
   "execution_count": 4,
   "metadata": {},
   "outputs": [
    {
     "name": "stdout",
     "output_type": "stream",
     "text": [
      "twoSum_bruteForce for sum of 9 from [2, 7, 11, 15] :  \t [0, 1]\n",
      "twoSum_bruteForce for sum of 7 from [3, 2, 4] :  \t [0, 2]\n",
      "twoSum_bruteForce for sum of 6 from [3, 3] :  \t [0, 1]\n"
     ]
    }
   ],
   "source": [
    "def twoSum_bruteForce(nums: List[int], target: int) -> List[int]:\n",
    "    for i in range(len(nums)):\n",
    "        for j in range(i+1,len(nums)):\n",
    "            if nums[i] + nums[j] == target:\n",
    "                return [i,j]      \n",
    "\n",
    "### Testing\n",
    "nums = [[2,7,11,15],[3,2,4], [3,3]]\n",
    "target = [9,7,6]\n",
    "\n",
    "for i in range(len(target)):\n",
    "    print(\"twoSum_bruteForce for sum of\", target[i], \"from\", nums[i], \": \", '\\t', twoSum_bruteForce(nums[i], target[i]))\n",
    "\n",
    "     "
   ]
  },
  {
   "cell_type": "markdown",
   "metadata": {},
   "source": [
    "---\n",
    "#### Approach 1.2: 2-Pass Hashing\n",
    "**Intution:** \n",
    "- To improve the runtime, we need to find the best way to maintain the mapping of elements in the array to their index. \n",
    "  - Use `hash table` - it supports fast lookup in near constant time\n",
    "  - We can reduce the lookup time from `O(n)` to `O(1)` by trading space for speed.\n",
    "\n",
    "**Algorithm:**\n",
    "- Uses two iterations. \n",
    "  - first iteration, add each element's value as a key and its index as a value to the hash table. Then, in the \n",
    "  - second iteration, check if each element's complement `(target−nums[i])` exists in the hash table. \n",
    "    - If it does exist, return current element's index and its complement's index. \n",
    "    - Beware that the complement must not be `nums[i]` itself!\n",
    "\n",
    "**Time complexity: `O(n)`**\n",
    "- We traverse the list containing `n` elements exactly twice.\n",
    "- hash table reduces the lookup time to `O(1)`,  the overall time complexity is `O(n)`.\n",
    "\n",
    "**Space complexity: `O(n)`**\n",
    "- Extra space is created for the hash table that is proportional to the elements in the array. "
   ]
  },
  {
   "cell_type": "code",
   "execution_count": 5,
   "metadata": {},
   "outputs": [
    {
     "name": "stdout",
     "output_type": "stream",
     "text": [
      "twoSum_bruteForce for sum of 9 from [2, 7, 11, 15] :  \t [0, 1]\n",
      "twoSum_bruteForce for sum of 7 from [3, 2, 4] :  \t [0, 2]\n",
      "twoSum_bruteForce for sum of 6 from [3, 3] :  \t [0, 1]\n"
     ]
    }
   ],
   "source": [
    "def twoSum_2passhashing(nums: List[int], target: int) -> List[int]:\n",
    "    hashmap = {}\n",
    "    for i in range(len(nums)):\n",
    "        hashmap[nums[i]] = i    #storing values at index\n",
    "    for i in range(len(nums)):\n",
    "        if target-nums[i] in hashmap and hashmap[target-nums[i]] != i:\n",
    "            return [i,hashmap[target-nums[i]]]\n",
    "        \n",
    "### Testing\n",
    "nums = [[2,7,11,15],[3,2,4], [3,3]]\n",
    "target = [9,7,6]\n",
    "for i in range(len(target)):\n",
    "    print(\"twoSum_bruteForce for sum of\", target[i], \"from\", nums[i], \": \", '\\t', twoSum_2passhashing(nums[i], target[i]))\n",
    "            "
   ]
  },
  {
   "cell_type": "markdown",
   "metadata": {},
   "source": [
    "---\n",
    "#### Approach 1.3: 1-Pass Hashing\n",
    "**Intution:** \n",
    "- While we are iterating and inserting elements into the hash table, \n",
    "  - we also look back to check if current element's complement already exists in the hash table. \n",
    "  - If it exists, we have found a solution and return the indices immediately.\n",
    "\n",
    "**Algorithm:**\n",
    "- Uses single iterations. \n",
    "  - first iteration, \n",
    "    - check if each element's complement `(target−nums[i])` exists in the hash table. \n",
    "      - If it does exist, return current element's index and its complement's index. \n",
    "      - else, add each element's value as a key and its index as a value to the hash table. \n",
    "\n",
    "**Time complexity: `O(n)`**\n",
    "- We traverse the list containing `n` elements exactly twice.\n",
    "- hash table reduces the lookup time to `O(1)`,  the overall time complexity is `O(n)`.\n",
    "\n",
    "**Space complexity: `O(n)`**\n",
    "- Extra space is created for the hash table that is proportional to the elements in the array added to the hash table.\n",
    "- Worst case: there is no solution and all the elements have to be added in the hashtable. "
   ]
  },
  {
   "cell_type": "code",
   "execution_count": 6,
   "metadata": {},
   "outputs": [
    {
     "name": "stdout",
     "output_type": "stream",
     "text": [
      "twoSum_bruteForce for sum of 9 from [2, 7, 11, 15] :  \t [1, 0]\n",
      "twoSum_bruteForce for sum of 7 from [3, 2, 4] :  \t [2, 0]\n",
      "twoSum_bruteForce for sum of 6 from [3, 3] :  \t [1, 0]\n"
     ]
    }
   ],
   "source": [
    "def twoSum_1passhashing(nums: List[int], target: int) -> List[int]:\n",
    "    hashmap = {}\n",
    "    for i in range(len(nums)):\n",
    "        if target-nums[i] in hashmap:\n",
    "            return [i, hashmap[target-nums[i]]]\n",
    "        else:\n",
    "            hashmap[nums[i]] = i\n",
    "\n",
    "### Testing\n",
    "nums = [[2,7,11,15],[3,2,4], [3,3]]\n",
    "target = [9,7,6]\n",
    "\n",
    "for i in range(len(target)):\n",
    "    print(\"twoSum_bruteForce for sum of\", target[i], \"from\", nums[i], \": \", '\\t', twoSum_1passhashing(nums[i], target[i]))\n",
    "            "
   ]
  },
  {
   "cell_type": "markdown",
   "metadata": {},
   "source": [
    "\n",
    "### 2. [Valid Parentheses](https://leetcode.com/problems/valid-parentheses/description/)\n",
    "\n",
    "Given a string `s` containing just the characters '(', ')', '{', '}', '[' and ']', determine if the input string is valid.\n",
    "\n",
    "An input string is valid if:\n",
    "Open brackets must be closed by the same type of brackets.\n",
    "Open brackets must be closed in the correct order.\n",
    "Every close bracket has a corresponding open bracket of the same type.\n",
    " \n",
    "\n",
    "Example 1:\n",
    "\n",
    "    Input: s = \"()\"\n",
    "    Output: true\n",
    "\n",
    "Example 2:\n",
    "\n",
    "    Input: s = \"()[]{}\"\n",
    "    Output: true\n",
    "\n",
    "Example 3:\n",
    "\n",
    "    Input: s = \"(]\"\n",
    "    Output: false\n",
    "---"
   ]
  },
  {
   "cell_type": "markdown",
   "metadata": {},
   "source": [
    "#### Approach 2.1: Using `stack`\n",
    "\n",
    "**Pseudocode** \n",
    "\n",
    "- It iterates through each character of the input string `s`, maintaining a stack to keep track of opening brackets encountered. \n",
    "- Whenever it encounters a closing bracket, it checks if the corresponding opening bracket is at the top of the stack. \n",
    "  - If so, it removes the opening bracket from the stack; \n",
    "  - otherwise, it adds the closing bracket to the stack. \n",
    "- After processing all characters, if the stack is empty, \n",
    "  - it returns `True` indicating that all brackets are matched; \n",
    "  - otherwise, it returns `False`.\n",
    "\n",
    "**Time Complexity: O(n)** \n",
    "- The time complexity of the algorithm is O(n), where n is the length of the input string `s`. \n",
    "- This is because the algorithm iterates through each character of the string exactly once.\n",
    "\n",
    "**Space Complexity: O(n)** \n",
    "- The space complexity of the algorithm is also O(n), where n is the length of the input string `s`. \n",
    "- This is because the algorithm uses a stack data structure that can grow up to the length of the input string in the worst case.\n",
    "- **worst case:** when all opening brackets are encountered before their corresponding closing brackets."
   ]
  },
  {
   "cell_type": "code",
   "execution_count": 7,
   "metadata": {},
   "outputs": [
    {
     "name": "stdout",
     "output_type": "stream",
     "text": [
      "isValid:  True\n",
      "isValid:  True\n",
      "isValid:  False\n"
     ]
    }
   ],
   "source": [
    "def isValid(s: str) -> bool:\n",
    "        stack = []\n",
    "        s = [*s]\n",
    "        for i in range(len(s)):\n",
    "                if len(stack)==0:\n",
    "                     stack.append(s[i])\n",
    "                elif stack[-1] == '(' and s[i] == ')':\n",
    "                      stack.pop()\n",
    "                elif stack[-1] == '[' and s[i] == ']':\n",
    "                      stack.pop()\n",
    "                elif stack[-1] == '{' and s[i] == '}':\n",
    "                      stack.pop()\n",
    "                else:\n",
    "                      stack.append(s[i])\n",
    "        return len(stack) == 0   \n",
    "\n",
    "### Testing\n",
    "nums = [\"()\",\"()[]{}\", \"(]\"]\n",
    "\n",
    "for i in range(len(target)):\n",
    "    print(\"isValid: \", isValid(nums[i]))\n",
    "\n",
    "     "
   ]
  },
  {
   "cell_type": "markdown",
   "metadata": {},
   "source": [
    "#### Approach 2.2: Using dict-stack\n",
    "Pseudocode: \n",
    "1. Initialize an empty stack.\n",
    "2. Iterate over each character in the input string.\n",
    "3. If the current character is an opening bracket, push it onto the stack.\n",
    "4. If the current character is a closing bracket:\n",
    "   - If the stack is empty or the top of the stack does not match the expected opening bracket for the current closing bracket, return `False`.\n",
    "   - Otherwise, pop the top of the stack.\n",
    "5. After processing all characters, if the stack is empty, return `True`; otherwise, return `False`.\n",
    "\n",
    "**Time Complexity: O(n)**\n",
    "- The algorithm iterates over each character in the input string once, resulting in a time complexity of O(n), *(`n`: length of the input string)*.\n",
    "- Each operation involving stack manipulation (push, pop) takes constant time.\n",
    "\n",
    "**Space Complexity: O(n)**\n",
    "- The space complexity is O(n), where n is the length of the input string. This is because the \n",
    "- worst-case scenario: when all characters in the string are opening brackets, and they are all pushed onto the stack."
   ]
  },
  {
   "cell_type": "code",
   "execution_count": 8,
   "metadata": {},
   "outputs": [
    {
     "name": "stdout",
     "output_type": "stream",
     "text": [
      "isValid:  True\n",
      "isValid:  True\n",
      "isValid:  False\n"
     ]
    }
   ],
   "source": [
    "def isValidDict(s: str) -> bool:\n",
    "    stack = []\n",
    "    brackets = {')': '(', ']': '[', '}': '{'}\n",
    "    for char in s:\n",
    "        if char in brackets.keys() and len(stack)==0: # if encoutering the closing brackets are first, return False\n",
    "                return False\n",
    "        if char in brackets.values():\n",
    "            stack.append(char)\n",
    "        elif char in brackets.keys() and  brackets[char] != stack.pop():\n",
    "            return False\n",
    "    return not stack\n",
    "\n",
    "\n",
    "\n",
    "### Testing\n",
    "nums = [\"()\",\"()[]{}\", \"(]\"]\n",
    "for i in range(len(target)):\n",
    "    print(\"isValid: \", isValidDict(nums[i]))\n"
   ]
  },
  {
   "attachments": {
    "image.png": {
     "image/png": "[encoded data removed]"
    }
   },
   "cell_type": "markdown",
   "metadata": {},
   "source": [
    "### 3. [Merge Two Sorted Lists](https://leetcode.com/problems/merge-two-sorted-lists/description/)\n",
    "\n",
    "(*A simplified version than original question*)\n",
    "\n",
    "You are given two sorted linked lists `list1` and `list2`.\n",
    "Merge the two lists into one sorted list.\n",
    "\n",
    "![image.png](attachment:image.png)\n",
    "\n",
    "Example 1:\n",
    "\n",
    "\n",
    "    Input: list1 = [1,2,4], list2 = [1,3,4]\n",
    "    Output: [1,1,2,3,4,4]\n",
    "\n",
    "Example 2:\n",
    "\n",
    "    Input: list1 = [], list2 = []\n",
    "    Output: []\n",
    "\n",
    "Example 3:\n",
    "\n",
    "    Input: list1 = [], list2 = [0]\n",
    "    Output: [0]\n",
    "---\n"
   ]
  },
  {
   "cell_type": "markdown",
   "metadata": {},
   "source": [
    "#### Approach 3.1: Iterative\n",
    "\n",
    "1. Initialize an empty list final_list.\n",
    "2. While list1 or list2 is not empty:\n",
    "-   If list1 is empty, extend final_list with list2 and return final_list.\n",
    "-   If list2 is empty, extend final_list with list1 and return final_list.\n",
    "-   If the first element of list2 is smaller than the first element of list1, remove and append it to final_list.\n",
    "-   Otherwise, remove and append the first element of list1 to final_list.\n",
    "3. Return final_list.\n",
    "\n",
    "**Time Complexity:**\n",
    "The time complexity of this function is O(n), where n is the total number of elements in both list1 and list2.\n",
    "\n",
    "**Space Complexity:**\n",
    "The space complexity of this function is O(n), where n is the total number of elements in both list1 and list2, as we are creating an additional list final_list to store the merged list.\n",
    "\n",
    "---"
   ]
  },
  {
   "cell_type": "code",
   "execution_count": 9,
   "metadata": {},
   "outputs": [
    {
     "name": "stdout",
     "output_type": "stream",
     "text": [
      "mergeTwoLists [1, 1, 2, 3, 4]\n",
      "mergeTwoLists []\n",
      "mergeTwoLists [0]\n"
     ]
    }
   ],
   "source": [
    "        \n",
    "def mergeTwoLists(list1: List, list2: List) -> List:\n",
    "    final_list = []\n",
    "    while list1 or list2:\n",
    "        if not list1:\n",
    "            final_list.extend(list2)\n",
    "            return final_list\n",
    "        elif not list2:\n",
    "            final_list.extend(list1)\n",
    "            return final_list\n",
    "        elif list2[0]<list1[0]:\n",
    "            final_list.append(list2.pop(0))\n",
    "        else:\n",
    "            final_list.append(list1.pop(0))\n",
    "    return final_list    \n",
    "\n",
    "\n",
    "\n",
    "### Testing\n",
    "list1 = [[1, 2, 4], [], []]\n",
    "list2 = [[1, 3], [], [0]]\n",
    "for i in range(len(list1)):\n",
    "    print(\"mergeTwoLists\", mergeTwoLists(list1[i], list2[i]))\n"
   ]
  },
  {
   "cell_type": "markdown",
   "metadata": {},
   "source": [
    "\n",
    "#### Approach 3.2: Recursive\n",
    "\n",
    "1. If `list1` is empty, return `list2`.\n",
    "2. If `list2` is empty, return `list1`.\n",
    "3. If the first element of `list2` is greater than the first element of `list1`:\n",
    "   -  Return a list consisting of the first element of `list1` concatenated with the result of merging the remaining elements of `list1` and `list2`.\n",
    "4. Otherwise:\n",
    "   - Return a list consisting of the first element of `list2` concatenated with the result of merging the remaining elements of `list1` and `list2`.\n",
    "\n",
    "**Time Complexity:**  \n",
    "The time complexity of this function is O(n), where n is the total number of elements in both `list1` and `list2`.\n",
    "\n",
    "**Space Complexity:**  \n",
    "The space complexity of this function is O(n), where n is the total number of elements in both `list1` and `list2`, as each recursive call creates a new list with a subset of the elements.\n",
    "\n",
    "---"
   ]
  },
  {
   "cell_type": "code",
   "execution_count": 10,
   "metadata": {},
   "outputs": [
    {
     "name": "stdout",
     "output_type": "stream",
     "text": [
      "mergeTwoListsRecursive [1, 2, 3, 4]\n",
      "mergeTwoListsRecursive []\n",
      "mergeTwoListsRecursive [0]\n"
     ]
    }
   ],
   "source": [
    "        \n",
    "def mergeTwoListsRecursive(list1: List, list2: List) -> List:\n",
    "    if not list1:\n",
    "        return list2\n",
    "    if not list2:\n",
    "        return list1\n",
    "    if list2[0]>list1[0]:\n",
    "        return [list1[0]] + mergeTwoLists(list1[1:], list2)\n",
    "    else:\n",
    "        return [list2[0]] + mergeTwoLists(list1[1:], list2[1:])\n",
    "\n",
    "\n",
    "### Testing\n",
    "list1 = [[1, 2, 4], [], []]\n",
    "list2 = [[1, 3], [], [0]]\n",
    "for i in range(len(list1)):\n",
    "    print(\"mergeTwoListsRecursive\", mergeTwoListsRecursive(list1[i], list2[i]))\n"
   ]
  },
  {
   "cell_type": "markdown",
   "metadata": {},
   "source": [
    "### 4.  [Best Time to Buy and Sell Stock](https://leetcode.com/problems/best-time-to-buy-and-sell-stock/description/) \n",
    "\n",
    "You are given an array `prices` where `prices[i]` is the price of a given stock on the `i`th day.\n",
    "You want to maximize your profit by choosing a single day to buy one stock and choosing a different day in the future to sell that stock.\n",
    "\n",
    "Return the maximum profit you can achieve from this transaction. If you cannot achieve any profit, return 0.\n",
    "\n",
    " \n",
    "\n",
    "Example 1:\n",
    "\n",
    "    Input: prices = [7,1,5,3,6,4]\n",
    "    Output: 5\n",
    "    Explanation: Buy on day 2 (price = 1) and sell on day 5 (price = 6), profit = 6-1 = 5.\n",
    "    Note that buying on day 2 and selling on day 1 is not allowed because you must buy before you sell.\n",
    "\n",
    "Example 2:\n",
    "\n",
    "    Input: prices = [7,6,4,3,1]\n",
    "    Output: 0\n",
    "    Explanation: In this case, no transactions are done and the max profit = 0.\n",
    "\n",
    "---"
   ]
  },
  {
   "cell_type": "markdown",
   "metadata": {},
   "source": [
    "#### Approach 4.1: simple-double iterations\n",
    "\n",
    "Pseudocode:\n",
    "1. Initialize profit to 0.\n",
    "2. Iterate over each price in the prices list.\n",
    "3. For each price, iterate over the prices starting from the next index.\n",
    "4. Calculate the potential profit by subtracting the current price from the price at the next index.\n",
    "   - If the calculated profit is greater than the current profit, update profit to this new value.\n",
    "Return the maximum profit found.\n",
    "\n",
    "**Complexity:**\n",
    "- **Time:** O(n^2) where n is the length of prices\n",
    "- **Space:** O(1)\n",
    "\n",
    "---"
   ]
  },
  {
   "cell_type": "code",
   "execution_count": 11,
   "metadata": {},
   "outputs": [
    {
     "name": "stdout",
     "output_type": "stream",
     "text": [
      "maxProfit:  5\n",
      "maxProfit:  9\n",
      "maxProfit:  0\n"
     ]
    }
   ],
   "source": [
    "def maxProfit(prices: List[int]) -> int:\n",
    "    profit = 0\n",
    "    for i in range(len(prices)):\n",
    "        for j in range(i+1, len(prices)):\n",
    "            profitCheck = prices[j]-prices[i]\n",
    "            if profit > profitCheck:\n",
    "                continue\n",
    "            else:\n",
    "                profit = profitCheck\n",
    "    return profit\n",
    "\n",
    "### Testing\n",
    "target = [[7,1,5,3,6,4],[10,9,1,4,7,10,1], [7,6,4,3,1]]\n",
    "for i in range(len(target)):\n",
    "    print(\"maxProfit: \", maxProfit(target[i]))"
   ]
  },
  {
   "cell_type": "markdown",
   "metadata": {},
   "source": [
    "\n",
    "#### Approach 4.2: Optimised version, with a single loop\n",
    "\n",
    "Pseudocode:\n",
    "1. If the prices list is empty, return 0.\n",
    "2. Initialize `min_price` to the first price in the list and `max_profit` to 0.\n",
    "3. Iterate over each price in the prices list.\n",
    "4. Update `min_price` to the minimum of the current price and `min_price`.\n",
    "5. Update `max_profit` to the maximum of the current profit and the difference between the current price and `min_price`.\n",
    "6. Return the maximum profit found.\n",
    "\n",
    "\n",
    "**Complexity:**\n",
    "- **Time:** O(n) where n is the length of prices\n",
    "- **Space:** O(1)\n",
    "---"
   ]
  },
  {
   "cell_type": "code",
   "execution_count": 12,
   "metadata": {},
   "outputs": [
    {
     "name": "stdout",
     "output_type": "stream",
     "text": [
      "maxProfitOptimized:  5\n",
      "maxProfitOptimized:  21\n",
      "maxProfitOptimized:  0\n"
     ]
    }
   ],
   "source": [
    "def maxProfitOptimized(prices: List[int]) -> int:\n",
    "    if not prices:\n",
    "        return 0\n",
    "    \n",
    "    min_price = prices[0]\n",
    "    max_profit = 0\n",
    "    for price in prices:\n",
    "        min_price = min(min_price, price)\n",
    "        max_profit = max(max_profit, price-min_price)\n",
    "    \n",
    "    return max_profit\n",
    "\n",
    "### Testing\n",
    "target = [[7,1,5,3,6,4],[20,41,1,4,7,12,1], [7,6,4,3,1]]\n",
    "for i in range(len(target)):\n",
    "    print(\"maxProfitOptimized: \", maxProfitOptimized(target[i]))"
   ]
  },
  {
   "cell_type": "markdown",
   "metadata": {},
   "source": [
    "#### Approach 4.3 Using Kadane Algorithm\n",
    "\n",
    "**Pseudocode:**\n",
    "1. Initialize `max_current` and `max_global` to 0.\n",
    "2. Iterate over each element in the array.\n",
    "   - Update `max_current` to be the maximum of the current element and the sum of the current element and `max_current`.\n",
    "   - Update `max_global` to be the maximum of `max_global` and `max_current`.\n",
    "3. Repeat steps 2 for all elements in the array.\n",
    "4. `max_global` now holds the maximum subarray sum.\n",
    "\n",
    "**Complexity:**\n",
    "- **Time:** O(n) where n is the length of prices\n",
    "- **Space:** O(1)\n",
    "---"
   ]
  },
  {
   "cell_type": "code",
   "execution_count": 13,
   "metadata": {},
   "outputs": [
    {
     "name": "stdout",
     "output_type": "stream",
     "text": [
      "For i:  1 price: 1  max_current:  0  max_global:  0\n",
      "\t max_current:  0  max_global:  0\n",
      "For i:  2 price: 5  max_current:  0  max_global:  0\n",
      "\t max_current:  4  max_global:  4\n",
      "For i:  3 price: 3  max_current:  4  max_global:  4\n",
      "\t max_current:  2  max_global:  4\n",
      "For i:  4 price: 6  max_current:  2  max_global:  4\n",
      "\t max_current:  5  max_global:  5\n",
      "For i:  5 price: 4  max_current:  5  max_global:  5\n",
      "\t max_current:  3  max_global:  5\n",
      "maxProfitOptimized:  5\n",
      "For i:  1 price: 10  max_current:  0  max_global:  0\n",
      "\t max_current:  9  max_global:  9\n",
      "For i:  2 price: 1  max_current:  9  max_global:  9\n",
      "\t max_current:  0  max_global:  9\n",
      "For i:  3 price: 14  max_current:  0  max_global:  9\n",
      "\t max_current:  13  max_global:  13\n",
      "For i:  4 price: 7  max_current:  13  max_global:  13\n",
      "\t max_current:  6  max_global:  13\n",
      "For i:  5 price: 12  max_current:  6  max_global:  13\n",
      "\t max_current:  11  max_global:  13\n",
      "For i:  6 price: 1  max_current:  11  max_global:  13\n",
      "\t max_current:  0  max_global:  13\n",
      "maxProfitOptimized:  13\n",
      "For i:  1 price: 6  max_current:  0  max_global:  0\n",
      "\t max_current:  0  max_global:  0\n",
      "For i:  2 price: 4  max_current:  0  max_global:  0\n",
      "\t max_current:  0  max_global:  0\n",
      "For i:  3 price: 3  max_current:  0  max_global:  0\n",
      "\t max_current:  0  max_global:  0\n",
      "For i:  4 price: 1  max_current:  0  max_global:  0\n",
      "\t max_current:  0  max_global:  0\n",
      "maxProfitOptimized:  0\n"
     ]
    }
   ],
   "source": [
    "def maxProfitKadane(prices: List[int]) -> int:\n",
    "    max_current = 0\n",
    "    max_global = 0\n",
    "    \n",
    "    for i in range(1, len(prices)):\n",
    "        print(\"For i: \", i, \"price:\", prices[i], \" max_current: \", max_current, \" max_global: \", max_global)\n",
    "        max_current = max(0, max_current + prices[i] - prices[i - 1])\n",
    "        max_global = max(max_global, max_current)\n",
    "        print(\"\\t\",\"max_current: \", max_current, \" max_global: \", max_global)\n",
    "\n",
    "    return max_global\n",
    "\n",
    "### Testing\n",
    "target = [[7,1,5,3,6,4],[1,10,1,14,7,12,1], [7,6,4,3,1]]\n",
    "for i in range(len(target)):\n",
    "    print(\"maxProfitOptimized: \", maxProfitKadane(target[i]))"
   ]
  },
  {
   "cell_type": "markdown",
   "metadata": {},
   "source": [
    "### 5. [Valid Palindrome](https://leetcode.com/problems/valid-palindrome/description/)\n",
    "\n",
    "A phrase is a palindrome if, after converting all uppercase letters into lowercase letters and removing all non-alphanumeric characters, it reads the same forward and backward. Alphanumeric characters include letters and numbers.\n",
    "\n",
    "Given a string s, return true if it is a palindrome, or false otherwise.\n",
    "\n",
    " \n",
    "\n",
    "Example 1:\n",
    "\n",
    "    Input: s = \"A man, a plan, a canal: Panama\"\n",
    "    Output: true\n",
    "    Explanation: \"amanaplanacanalpanama\" is a palindrome.\n",
    "\n",
    "Example 2:\n",
    "\n",
    "    Input: s = \"race a car\"\n",
    "    Output: false\n",
    "    Explanation: \"raceacar\" is not a palindrome.\n",
    "\n",
    "Example 3:\n",
    "\n",
    "    Input: s = \" \"\n",
    "    Output: true\n",
    "    Explanation: s is an empty string \"\" after removing non-alphanumeric characters. Since an empty string reads the same forward and backward, it is a palindrome.\n",
    " \n",
    "---"
   ]
  },
  {
   "cell_type": "markdown",
   "metadata": {},
   "source": [
    "#### Approach 5.1: simple recursive\n",
    "\n",
    "**Pseudocode:**\n",
    "\n",
    "1. Remove non-alphanumeric characters from string `s` and convert it to lowercase.\n",
    "2. Calculate the length of half of the string.\n",
    "3. Check if the first half of the modified string is equal to the reversed second half.\n",
    "4. Return `True` if it's a palindrome, otherwise `False`.\n",
    "\n",
    "**Time Complexity:**\n",
    "\n",
    "Let `n` be the length of the input string `s`.\n",
    "- The operation to remove non-alphanumeric characters takes O(n) time.\n",
    "- Converting the string to lowercase also takes O(n) time.\n",
    "- Calculating the length of half of the string takes O(1) time.\n",
    "- Checking if the first half of the string is equal to the reversed second half takes O(n) time.\n",
    "- Overall time complexity is O(n).\n",
    "\n",
    "**Space Complexity:**\n",
    "\n",
    "- The space complexity is primarily determined by the modified string `s`, which takes O(n) space since it's a copy of the input string. Other auxiliary variables like `half` and intermediate results take constant space.\n",
    "- Overall space complexity is O(n).\n",
    "---"
   ]
  },
  {
   "cell_type": "code",
   "execution_count": 14,
   "metadata": {},
   "outputs": [
    {
     "name": "stdout",
     "output_type": "stream",
     "text": [
      "isPalindrome:  True\n",
      "isPalindrome:  False\n",
      "isPalindrome:  True\n",
      "isPalindrome:  False\n"
     ]
    }
   ],
   "source": [
    "def isPalindrome(s: str) -> bool:\n",
    "    s = \"\".join(x for x in s if x.isalnum())\n",
    "    s = s.lower()\n",
    "    half = len(s)//2\n",
    "    return s[:half] in s[::-1][:half]\n",
    "\n",
    "\n",
    "### Testing\n",
    "texts = [\"A man, a plan, a canal: Panama\", \"race a car\", \" \", \"ab\"]\n",
    "for i in range(len(texts)):\n",
    "    print(\"isPalindrome: \", isPalindrome(texts[i]))"
   ]
  },
  {
   "cell_type": "markdown",
   "metadata": {},
   "source": [
    "#### Approach 5.2: Smarter way to handle palindromes\n",
    "\n",
    "1. Remove non-alphanumeric characters from string `s` and convert it to lowercase.\n",
    "2. Check if the modified string is equal to its reverse.\n",
    "3. Return `True` if it's a palindrome, `False` otherwise.\n",
    "\n",
    "**Time complexity:**\n",
    "- O(n) - where n is the length of the input string `s`.\n",
    "  \n",
    "**Space complexity:**\n",
    "- O(n) - for storing the modified string."
   ]
  },
  {
   "cell_type": "code",
   "execution_count": 15,
   "metadata": {},
   "outputs": [
    {
     "name": "stdout",
     "output_type": "stream",
     "text": [
      "isPalindrome:  True\n",
      "isPalindrome:  False\n",
      "isPalindrome:  True\n",
      "isPalindrome:  False\n",
      "isPalindrome:  True\n"
     ]
    }
   ],
   "source": [
    "def isPalindrome(s: str) -> bool:\n",
    "    alphanumeric_s = \"\".join(x for x in s if x.isalnum())\n",
    "    lowercase_s = alphanumeric_s.lower()\n",
    "    return lowercase_s == lowercase_s[::-1]\n",
    "\n",
    "### Testing\n",
    "texts = [\"A man, a plan, a canal: Panama\", \"race a car\", \" \", \"ab\", \"aa_\"]\n",
    "for i in range(len(texts)):\n",
    "    print(\"isPalindrome: \", isPalindrome(texts[i]))"
   ]
  },
  {
   "attachments": {
    "image-2.png": {
     "image/png": "[encoded data removed]"
    },
    "image.png": {
     "image/png": "[encoded data removed]"
    }
   },
   "cell_type": "markdown",
   "metadata": {},
   "source": [
    "### 6. [Invert Binary Tree](https://leetcode.com/problems/invert-binary-tree/description/)\n",
    "\n",
    "Given the root of a binary tree, invert the tree, and return its root.\n",
    "\n",
    " \n",
    "\n",
    "Example 1:\n",
    "\n",
    "![image.png](attachment:image.png)\n",
    "\n",
    "    Input: root = [4,2,7,1,3,6,9]\n",
    "    Output: [4,7,2,9,6,3,1]\n",
    "\n",
    "Example 2:\n",
    "\n",
    "![image-2.png](attachment:image-2.png)\n",
    "\n",
    "    Input: root = [2,1,3]\n",
    "    Output: [2,3,1]\n",
    "\n",
    "Example 3:\n",
    "\n",
    "    Input: root = []\n",
    "    Output: []"
   ]
  },
  {
   "cell_type": "markdown",
   "metadata": {},
   "source": [
    "#### Approach 6.1: Simple & recursion\n",
    "\n",
    "```py\n",
    "Function invertTree(root):\n",
    "    If root is not None:\n",
    "        Swap root's left and right child nodes\n",
    "        Call invertTree recursively on root's left child\n",
    "        Call invertTree recursively on root's right child\n",
    "    Return root\n",
    "```\n",
    "\n",
    "**Time Complexity:**\n",
    "- In the worst-case scenario, the algorithm will visit every node of the binary tree once.\n",
    "- Time complexity is O(n), where `n` is the number of nodes in the binary tree.\n",
    "\n",
    "**Space Complexity:**\n",
    "- The space complexity is determined by the recursion stack.\n",
    "- **Worst-case scenario:**  the recursion depth will be equal to the height of the binary tree.\n",
    "- Therefore, the space complexity is `O(h)`, where `h` is the height of the binary tree.\n",
    "- In the case of a completely unbalanced binary tree, the height `h` could be equal to the number of nodes `n`, resulting in a space complexity of `O(n)`.\n",
    "- In a balanced binary tree, the height `h` would be logarithmic with respect to the number of nodes `n`, resulting in a space complexity of `O(log n)`.\n"
   ]
  },
  {
   "cell_type": "code",
   "execution_count": 16,
   "metadata": {},
   "outputs": [
    {
     "name": "stdout",
     "output_type": "stream",
     "text": [
      "original root:\n",
      "4\n",
      "2 7\n",
      "1 3 6 9\n",
      "inverted root:\n",
      "4\n",
      "7 2\n",
      "9 6 3 1\n"
     ]
    }
   ],
   "source": [
    "# Definition for a binary tree node.\n",
    "class TreeNode:\n",
    "    def __init__(self, val=0, left=None, right=None):\n",
    "        self.val = val\n",
    "        self.left = left\n",
    "        self.right = right\n",
    "class Solution:\n",
    "    def invertTree(self, root: Optional[TreeNode]) -> Optional[TreeNode]:\n",
    "        if root != None:\n",
    "            root.left, root.right = root.right, root.left # swapping valus\n",
    "            self.invertTree(root.left)\n",
    "            self.invertTree(root.right)\n",
    "        return root\n",
    "\n",
    "### Testing\n",
    "root = TreeNode(4)\n",
    "root.left = TreeNode(2)\n",
    "root.right = TreeNode(7)\n",
    "root.left.left = TreeNode(1)\n",
    "root.left.right = TreeNode(3)\n",
    "root.right.left = TreeNode(6)\n",
    "root.right.right = TreeNode(9)\n",
    "\n",
    "print(\"original root:\")\n",
    "print(root.val)\n",
    "print(root.left.val, root.right.val)\n",
    "print(root.left.left.val, root.left.right.val, root.right.left.val, root.right.right.val)\n",
    "\n",
    "solution = Solution()\n",
    "inverted_root = solution.invertTree(root)\n",
    "\n",
    "print(\"inverted root:\")\n",
    "print(inverted_root.val)\n",
    "print(inverted_root.left.val, inverted_root.right.val)\n",
    "print(inverted_root.left.left.val, inverted_root.left.right.val, inverted_root.right.left.val, inverted_root.right.right.val)"
   ]
  },
  {
   "cell_type": "markdown",
   "metadata": {},
   "source": [
    "### 7. [Valid Anagram](https://leetcode.com/problems/valid-anagram/description/)\n",
    "\n",
    "Given two strings s and t, return true if t is an anagram of s, and false otherwise.\n",
    "\n",
    "An Anagram is a word or phrase formed by rearranging the letters of a different word or phrase, typically using all the original letters exactly once.\n",
    "\n",
    " \n",
    "\n",
    "Example 1:\n",
    "\n",
    "    Input: s = \"anagram\", t = \"nagaram\"\n",
    "    Output: true\n",
    "\n",
    "Example 2:\n",
    "\n",
    "    Input: s = \"rat\", t = \"car\"\n",
    "    Output: false\n",
    " \n",
    "\n",
    "Constraints:\n",
    "\n",
    "1 <= s.length, t.length <= 5 * 104\n",
    "s and t consist of lowercase English letters.\n",
    " \n",
    "\n",
    "**Follow up:** What if the inputs contain Unicode characters? How would you adapt your solution to such a case?\n",
    "\n",
    "---"
   ]
  },
  {
   "cell_type": "markdown",
   "metadata": {},
   "source": [
    "#### Approach 7.1 \n",
    "\n",
    "**Pseudocode:**\n",
    "- Create an empty dictionary `seq`.\n",
    "- Iterate through string `s` and count the frequency of each character, storing it in `seq`.\n",
    "- Iterate through string `t` and decrement the count of each character in `seq`.\n",
    "- Return `True` if all counts in seq are zero, indicating that `s` and `t` are anagrams; \n",
    "- otherwise, return False.\n",
    "\n",
    "**Time Complexity:**\n",
    "- O(n), where n is the length of the strings s and t. \n",
    "- This is because each string is iterated over once.\n",
    "  \n",
    "**Space Complexity:**\n",
    "- O(k), where k is the number of unique characters in s and t. \n",
    "- This is because the dictionary seq could potentially store all unique characters."
   ]
  },
  {
   "cell_type": "code",
   "execution_count": 17,
   "metadata": {},
   "outputs": [
    {
     "name": "stdout",
     "output_type": "stream",
     "text": [
      "isAnagram1:  False\n",
      "isAnagram1:  True\n",
      "isAnagram1:  False\n",
      "isAnagram1:  True\n"
     ]
    }
   ],
   "source": [
    "def isAnagram1(s: str, t: str) -> bool:\n",
    "    if len(s)!=len(t):\n",
    "        return False\n",
    "    seq = {}\n",
    "    for c in s:\n",
    "        if c not in seq:\n",
    "            seq[c] = 1\n",
    "        else:\n",
    "            seq[c] = seq[c]+1\n",
    "    #print(\"adding & iterating first string: \", seq)\n",
    "    for c in t:\n",
    "        if c not in seq:\n",
    "            return False\n",
    "        else:\n",
    "            seq[c] = seq[c]-1\n",
    "    #print(\"reducing & iterating second string: \", seq)\n",
    "    return all(val == 0 for val in seq.values())\n",
    "\n",
    "### Testing\n",
    "test = [\"aacc\", \"'anagram\", \"rat\", \"ded\"]\n",
    "target = [\"ccac\", \"'nagaram\", \"cat\", \"edd\"]\n",
    "\n",
    "for i in range(len(test)):\n",
    "    print(\"isAnagram1: \", isAnagram1(test[i], target[i]))"
   ]
  },
  {
   "cell_type": "markdown",
   "metadata": {},
   "source": [
    "#### Method 7.2 Using sets & list\n",
    "\n",
    "**Pseudocode**\n",
    "- Convert `s` into a set to get unique characters.\n",
    "- Iterate through the unique characters and compare their counts in strings `s` and `t`.\n",
    "- Return False if the counts of any character differ between `s` and `t`, indicating that `s` and `t` are not anagrams; otherwise, return True.\n",
    "\n",
    "**Time Complexity:**\n",
    "- `O(n)`, where `n` is the length of the strings `s` and `t`. \n",
    "- This is because for each unique character in s, `count()` is called on both s and t.\n",
    "\n",
    "**Space Complexity:** \n",
    "- O(k), where k is the number of unique characters in s. \n",
    "- This is because the set of unique characters is stored temporarily."
   ]
  },
  {
   "cell_type": "code",
   "execution_count": 18,
   "metadata": {},
   "outputs": [
    {
     "name": "stdout",
     "output_type": "stream",
     "text": [
      "isAnagram2:  False\n",
      "isAnagram2:  None\n",
      "isAnagram2:  False\n",
      "isAnagram2:  None\n"
     ]
    }
   ],
   "source": [
    "def isAnagram2(s: str, t: str) -> bool:\n",
    "    if len(s)!=len(t):\n",
    "        return False\n",
    "    for c in set(list(s)):\n",
    "        if s.count(c) != t.count(c):\n",
    "            return False\n",
    "\n",
    "### Testing\n",
    "test = [\"aacc\", \"'anagram\", \"rat\", \"ded\"]\n",
    "target = [\"ccac\", \"'nagaram\", \"cat\", \"edd\"]\n",
    "\n",
    "for i in range(len(test)):\n",
    "    print(\"isAnagram2: \", isAnagram2(test[i], target[i]))"
   ]
  },
  {
   "cell_type": "markdown",
   "metadata": {},
   "source": [
    "#### Method 7.3 Using collections library\n",
    "\n",
    "**Psuedocode:**\n",
    "- Use the Counter class from the collections module to count the occurrences of characters in both strings s and t.\n",
    "- Compare the counters for equality.\n",
    "- Return True if the counters are equal, indicating that s and t are anagrams; otherwise, return False.\n",
    "\n",
    "**Time Complexity:**\n",
    "- O(n), where n is the total number of characters in both strings s and t. \n",
    "- This is because the Counter constructor iterates through each string once.\n",
    "\n",
    "**Space Complexity:**\n",
    "- O(k), where k is the number of unique characters in both strings s and t. \n",
    "- This is because Counter creates a dictionary-like object where each unique character has an entry."
   ]
  },
  {
   "cell_type": "code",
   "execution_count": 19,
   "metadata": {},
   "outputs": [
    {
     "name": "stdout",
     "output_type": "stream",
     "text": [
      "isAnagram:  False\n",
      "isAnagram:  True\n",
      "isAnagram:  False\n",
      "isAnagram:  True\n"
     ]
    }
   ],
   "source": [
    "def isAnagram3(s: str, t: str) -> bool:\n",
    "    from collections import Counter\n",
    "    return Counter(s) == Counter(t)\n",
    "\n",
    "### Testing\n",
    "test = [\"aacc\", \"'anagram\", \"rat\", \"ded\"]\n",
    "target = [\"ccac\", \"'nagaram\", \"cat\", \"edd\"]\n",
    "\n",
    "for i in range(len(test)):\n",
    "    print(\"isAnagram: \", isAnagram3(test[i], target[i]))"
   ]
  },
  {
   "cell_type": "markdown",
   "metadata": {},
   "source": [
    "### 8. [Binary Search](https://leetcode.com/problems/binary-search/description/)\n",
    "\n",
    "Given an array of integers nums which is sorted in ascending order, and an integer target, write a function to search target in nums. If target exists, then return its index. Otherwise, return -1.\n",
    "\n",
    "You must write an algorithm with `O(log n)` runtime complexity.\n",
    "\n",
    " \n",
    "\n",
    "**Example 1:**\n",
    "\n",
    "    Input: nums = [-1,0,3,5,9,12], target = 9\n",
    "    Output: 4\n",
    "    Explanation: 9 exists in nums and its index is 4\n",
    "\n",
    "**Example 2:**\n",
    "\n",
    "    Input: nums = [-1,0,3,5,9,12], target = 2\n",
    "    Output: -1\n",
    "    Explanation: 2 does not exist in nums so return -1\n",
    "\n",
    "---"
   ]
  },
  {
   "cell_type": "markdown",
   "metadata": {},
   "source": [
    "#### Approach 8.1 : Unsorted Binary Search with Recursion\n",
    "\n",
    "\n",
    "**Pseudocode:**\n",
    "- Check if the first index itself is the `target`. if so then return index 0.\n",
    "- Otherwise:\n",
    "- find the index that halves of the list, `split`.\n",
    "- Check if the value is present in the first half or second half.\n",
    "  - If the value is present in the first half:\n",
    "    - pass first half of the list.\n",
    "  - If the value is not in the second half:\n",
    "    - pass the second half of the list + lenght of the list to keep track of the index.\n",
    "  \n",
    "**Note:** *This code can also be used for unsorted lists.*\n",
    "\n",
    "**Time Complexity:**\n",
    "- `O(log n)` in the average and best cases, where `n` is the length of the list. This is because the binary search halves the search space with each iteration.\n",
    "\n",
    "**Space Complexity:**\n",
    "- `O(log n)` in the worst case due to the recursive calls. This can become an issue for very large lists.\n"
   ]
  },
  {
   "cell_type": "code",
   "execution_count": 20,
   "metadata": {},
   "outputs": [
    {
     "name": "stdout",
     "output_type": "stream",
     "text": [
      "searchUnsorted:  4\n",
      "searchUnsorted:  0\n",
      "searchUnsorted:  7\n"
     ]
    }
   ],
   "source": [
    "def searchUnsorted(nums: List[int], target: int) -> int:\n",
    "    if target not in nums:\n",
    "        return -1\n",
    "    elif nums[0] == target:\n",
    "        return 0\n",
    "    split = len(nums)//2\n",
    "    if target in nums[:split]:\n",
    "        return searchUnsorted(nums[:split], target)\n",
    "    elif target in nums[split:]:\n",
    "        return split + searchUnsorted(nums[split:], target)\n",
    "\n",
    "### Testing\n",
    "tests = [[-1,0,3,5,9,12], [-1,0,3,5,9,12], [10, 5, 4, 8, 19, -1, 100, 9]]\n",
    "targets = [9, -1, 9]\n",
    "for i in range(len(tests)):\n",
    "    print(\"searchUnsorted: \", searchUnsorted(tests[i], targets[i]))\n"
   ]
  },
  {
   "cell_type": "markdown",
   "metadata": {},
   "source": [
    "#### Approach 8.2: Iterative approach for sorted list\n",
    "\n",
    "**Pseudocode:**\n",
    "\n",
    "1. Initialize two variables: `low` and `high` to represent the beginning and end of the search space, respectively (initially `low = 0` and `high = len(nums) - 1`).\n",
    "2. **While loop for binary search:** \n",
    "    * As long as `low` is less than or equal to `high` (meaning there's still a search space):\n",
    "        * Calculate the middle index `mid` using `(low + high) // 2`. \n",
    "        * Check if the value at `mid` is equal to the `target`:\n",
    "            * If `nums[mid] == target`, we found the target element. Return the `mid` index.\n",
    "        * Otherwise, we need to refine the search space based on the comparison:\n",
    "            * If `nums[mid] < target`, the target must be in the **right half** of the remaining list. Update `low` to `mid + 1` to exclude the already checked middle element.\n",
    "            * If `nums[mid] > target`, the target must be in the **left half** of the remaining list. Update `high` to `mid - 1` to exclude the already checked middle element.\n",
    "3. **Target not found:**\n",
    "    * If the loop exits without finding a match (i.e., `low` becomes greater than `high`), the target element is not present in the list. Return `-1` to indicate this.\n",
    "\n",
    "**Time Complexity:** \n",
    "- O(log n) same as the code mentioned above.\n",
    "\n",
    "**Space Complexity:** \n",
    "- O(1) because it uses a loop and avoids function call overhead.\n"
   ]
  },
  {
   "cell_type": "code",
   "execution_count": 21,
   "metadata": {},
   "outputs": [
    {
     "name": "stdout",
     "output_type": "stream",
     "text": [
      "searchSortedIterative:  4\n",
      "searchSortedIterative:  0\n"
     ]
    }
   ],
   "source": [
    "def searchSortedIterative(nums: List[int], target: int) -> int:\n",
    "    low, high = 0,len(nums)-1\n",
    "    while low<= high:\n",
    "        mid = (low+high)//2\n",
    "        if nums[mid]== target:\n",
    "            return mid\n",
    "        elif nums[mid]< target:\n",
    "            low = mid\n",
    "        else:\n",
    "            high = mid\n",
    "\n",
    "### Testing\n",
    "tests = [[-1,0,3,5,9,12], [-1,0,3,5,9,12]]\n",
    "targets = [9, -1]\n",
    "for i in range(len(tests)):\n",
    "    print(\"searchSortedIterative: \", searchSortedIterative(tests[i], targets[i]))\n"
   ]
  },
  {
   "attachments": {
    "image.png": {
     "image/png": "[encoded data removed]"
    }
   },
   "cell_type": "markdown",
   "metadata": {},
   "source": [
    "### 9. [Flood Fill](https://leetcode.com/problems/flood-fill/)\n",
    "An image is represented by an m x n integer grid image where image[i][j] represents the pixel value of the image.\n",
    "\n",
    "You are also given three integers sr, sc, and color. You should perform a flood fill on the image starting from the pixel image[sr][sc].\n",
    "\n",
    "To perform a flood fill, consider the starting pixel, plus any pixels connected 4-directionally to the starting pixel of the same color as the starting pixel, plus any pixels connected 4-directionally to those pixels (also with the same color), and so on. Replace the color of all of the aforementioned pixels with color.\n",
    "\n",
    "Return the modified image after performing the flood fill.\n",
    "\n",
    " \n",
    "\n",
    "Example 1:\n",
    "\n",
    "![image.png](attachment:image.png)\n",
    "\n",
    "    Input: image = [[1,1,1],[1,1,0],[1,0,1]], sr = 1, sc = 1, color = 2\n",
    "    Output: [[2,2,2],[2,2,0],[2,0,1]]\n",
    "    Explanation: From the center of the image with position (sr, sc) = (1, 1) (i.e., the red pixel), all pixels connected by a path of the same color as the starting pixel (i.e., the blue pixels) are colored with the new color.\n",
    "    Note the bottom corner is not colored 2, because it is not 4-directionally connected to the starting pixel.\n",
    "\n",
    "Example 2:\n",
    "\n",
    "    Input: image = [[0,0,0],[0,0,0]], sr = 0, sc = 0, color = 0\n",
    "    Output: [[0,0,0],[0,0,0]]\n",
    "    Explanation: The starting pixel is already colored 0, so no changes are made to the image."
   ]
  },
  {
   "cell_type": "markdown",
   "metadata": {},
   "source": [
    "#### Approach 9.1: Using recursion\n",
    "\n",
    "**Pseudocode:**\n",
    "* The solution has two methods:\n",
    "    * `fill(self, image, sr, sc, color, curr)`: This recursive helper function performs the actual flood fill operation on a specific pixel (`sr`, `sc`).\n",
    "        * It checks for boundary conditions (out of image bounds) and early exits if necessary.\n",
    "        * It compares the current pixel value (`curr`) with the target fill color (`color`). If they differ, it means the pixel hasn't been filled yet and proceeds with filling.\n",
    "        * It updates the pixel value at (`sr`, `sc`) to the new `color`.\n",
    "        * It recursively calls itself on the four neighboring pixels (up, down, left, right) to continue the flood fill process.\n",
    "    * `floodFill(self, image: List[List[int]], sr: int, sc: int, color: int) -> List[List[int]]`: This is the main function that initiates the flood fill process.\n",
    "        * It checks if the starting pixel's color (`image[sr][sc]`) already matches the target `color`. If they are the same, no change is needed, and the original image is returned.\n",
    "        * It calls the recursive `fill` function with the starting pixel coordinates (`sr`, `sc`), the new `color`, and the current pixel value (`image[sr][sc]`) as the initial `curr` value.\n",
    "        * It returns the modified image after the flood fill is complete.\n"
   ]
  },
  {
   "cell_type": "code",
   "execution_count": 22,
   "metadata": {},
   "outputs": [
    {
     "name": "stdout",
     "output_type": "stream",
     "text": [
      "floodFillRecursive\n",
      "before: [[1, 1, 1], [1, 1, 0], [1, 0, 1]]\n",
      "after:  [[2, 2, 2], [2, 2, 0], [2, 0, 1]]\n",
      "floodFillRecursive\n",
      "before: [[0, 0, 0], [0, 0, 0]]\n",
      "after:  [[0, 0, 0], [0, 0, 0]]\n"
     ]
    }
   ],
   "source": [
    "def fill( image, sr, sc, color, curr):\n",
    "    if sr < 0 or sr >= len(image) or sc < 0 or sc >= len(image[0]):\n",
    "        return\n",
    "    if curr!= image[sr][sc]:\n",
    "        return\n",
    "    image[sr][sc] = color\n",
    "\n",
    "    fill(image, sr-1, sc, color, curr)\n",
    "    fill(image, sr+1, sc, color, curr)\n",
    "    fill(image, sr, sc-1, color, curr)\n",
    "    fill(image, sr, sc+1, color, curr)\n",
    "\n",
    "def floodFillRecursive(image: List[List[int]], sr: int, sc: int, color: int) -> List[List[int]]:\n",
    "    if image[sr][sc] == color:\n",
    "        return image\n",
    "    fill(image, sr, sc, color, image[sr][sc])\n",
    "    return image\n",
    "\n",
    "### Testing\n",
    "tests = [[[1,1,1],[1,1,0],[1,0,1]], [[0,0,0],[0,0,0]]]\n",
    "srs = [1, 0]\n",
    "scs = [1, 0]\n",
    "colors = [2, 0]\n",
    "for i in range(len(tests)):\n",
    "    print(\"floodFillRecursive\")\n",
    "\n",
    "    print(\"before:\", tests[i])    \n",
    "    print(\"after: \", floodFillRecursive(tests[i], srs[i], scs[i], colors[i]))"
   ]
  },
  {
   "cell_type": "markdown",
   "metadata": {},
   "source": [
    "#### Approach 9.2 Using Iteration\n",
    "\n"
   ]
  },
  {
   "cell_type": "code",
   "execution_count": 23,
   "metadata": {},
   "outputs": [
    {
     "name": "stdout",
     "output_type": "stream",
     "text": [
      "floodFill\n",
      "before:  [[1, 1, 1], [1, 1, 0], [1, 0, 1]]\n",
      "after:  [[2, 2, 2], [2, 2, 0], [2, 0, 1]]\n",
      "floodFill\n",
      "before:  [[0, 0, 0], [0, 0, 0]]\n",
      "after:  [[0, 0, 0], [0, 0, 0]]\n"
     ]
    }
   ],
   "source": [
    "def floodFill(image: List[List[int]], sr: int, sc: int, newColor: int) -> List[List[int]]:\n",
    "    rows, cols = len(image), len(image[0])\n",
    "    original_color = image[sr][sc]\n",
    "    if original_color == newColor:\n",
    "        return image\n",
    "    \n",
    "    visited = set()\n",
    "    stack = [(sr, sc)]\n",
    "    \n",
    "    while stack:\n",
    "        row, col = stack.pop()\n",
    "        if (row, col) in visited or row < 0 or row >= rows or col < 0 or col >= cols or image[row][col] != original_color:\n",
    "            continue\n",
    "        image[row][col] = newColor\n",
    "        visited.add((row, col))\n",
    "        stack.append((row - 1, col))  # Up\n",
    "        stack.append((row + 1, col))  # Down\n",
    "        stack.append((row, col - 1))  # Left\n",
    "        stack.append((row, col + 1))  # Right\n",
    "\n",
    "    return image\n",
    "\n",
    "\n",
    "### Testing\n",
    "tests = [[[1,1,1],[1,1,0],[1,0,1]], [[0,0,0],[0,0,0]]]\n",
    "srs = [1, 0]\n",
    "scs = [1, 0]\n",
    "colors = [2, 0]\n",
    "for i in range(len(tests)):\n",
    "    print(\"floodFill\")\n",
    "    print(\"before: \", tests[i])    \n",
    "    print(\"after: \", floodFill(tests[i], srs[i], scs[i], colors[i]))\n"
   ]
  },
  {
   "attachments": {
    "image.png": {
     "image/png": "[encoded data removed]"
    }
   },
   "cell_type": "markdown",
   "metadata": {},
   "source": [
    "### 10. [Lowest Common Ancestor of a Binary Search Tree](https://leetcode.com/problems/lowest-common-ancestor-of-a-binary-search-tree/)\n",
    "\n",
    "Given a binary search tree (BST), find the lowest common ancestor (LCA) node of two given nodes in the BST.\n",
    "\n",
    "According to the definition of LCA on Wikipedia: “The lowest common ancestor is defined between two nodes p and q as the lowest node in T that has both p and q as descendants (where we allow a node to be a descendant of itself).”\n",
    "\n",
    "Example 1:\n",
    "\n",
    "![image.png](attachment:image.png)\n",
    "\n",
    "    Input: root = [6,2,8,0,4,7,9,null,null,3,5], p = 2, q = 8\n",
    "    Output: 6\n",
    "    Explanation: The LCA of nodes 2 and 8 is 6.\n",
    "\n",
    "Example 2:\n",
    "\n",
    "    Input: root = [6,2,8,0,4,7,9,null,null,3,5], p = 2, q = 4\n",
    "    Output: 2\n",
    "    Explanation: The LCA of nodes 2 and 4 is 2, since a node can be a descendant of itself according to the LCA definition.\n",
    "\n",
    "Example 3:\n",
    "\n",
    "    Input: root = [2,1], p = 2, q = 1\n",
    "    Output: 2"
   ]
  },
  {
   "cell_type": "markdown",
   "metadata": {},
   "source": [
    "#### Approach 10.1 Recusive \n",
    "\n",
    "Here's the pseudocode explanation and complexity analysis for the algorithm:\n",
    "\n",
    "**Pseudocode:**\n",
    "1. Start from the root node of the binary search tree (BST).\n",
    "2. Check if the root node is `None`. If so, return `None`.\n",
    "3. Compare the values of the root node with the values of the nodes `p` and `q`.\n",
    "4. If the value of the root node is greater than both `p` and `q`, recursively call the function on the left subtree.\n",
    "5. If the value of the root node is less than both `p` and `q`, recursively call the function on the right subtree.\n",
    "6. If neither of the above conditions is met, it means that the current root node is the lowest common ancestor. Return the current root node.\n",
    "\n",
    "**Time Complexity:**\n",
    "- The time complexity of the algorithm is O(h), where h is the height of the binary search tree.\n",
    "- In the worst-case scenario, the height of the tree can be equal to the number of nodes in the tree (when the tree is skewed).\n",
    "- In the average case, the height of the tree is approximately log(n), where n is the number of nodes in the tree.\n",
    "- Therefore, the average time complexity of the algorithm is O(log(n)).\n",
    "\n",
    "**Space Complexity:**\n",
    "- The space complexity of the algorithm is O(h) due to the recursive calls on the call stack.\n",
    "- In the worst-case scenario, the space complexity can be O(n) when the tree is skewed.\n",
    "- In the average case, the space complexity is O(log(n)) due to the balanced nature of the binary search tree."
   ]
  },
  {
   "cell_type": "code",
   "execution_count": 24,
   "metadata": {},
   "outputs": [
    {
     "name": "stdout",
     "output_type": "stream",
     "text": [
      "6\n"
     ]
    }
   ],
   "source": [
    "\n",
    "class TreeNode:\n",
    "    def __init__(self, x):\n",
    "        self.val = x\n",
    "        self.left = None\n",
    "        self.right = None\n",
    "\n",
    "class Solution:\n",
    "    def lowestCommonAncestor(self, root: 'TreeNode', p: 'TreeNode', q: 'TreeNode') -> 'TreeNode':\n",
    "        if root == None:\n",
    "            return None\n",
    "        if root.val > p.val and root.val > q.val:\n",
    "            return self.lowestCommonAncestor(root.left, p, q)\n",
    "        if root.val < p.val and root.val < q.val:\n",
    "            return self.lowestCommonAncestor(root.right, p, q)\n",
    "        return root\n",
    "\n",
    "# [6,2,8,0,4,7,9,null,null,3,5]\n",
    "root = TreeNode(6)\n",
    "root.left = TreeNode(2)\n",
    "root.right = TreeNode(8)\n",
    "root.left.left = TreeNode(0)\n",
    "root.left.right = TreeNode(4)\n",
    "root.right.left = TreeNode(7)\n",
    "root.right.right = TreeNode(9)\n",
    "root.left.right.left = TreeNode(3)\n",
    "root.left.right.right = TreeNode(5)\n",
    "\"\"\"\n",
    "        __________6__________\n",
    "    ____2____           ____8____\n",
    "    0     ___4___       7       9\n",
    "          3     5 \n",
    "\"\"\"\n",
    "p = TreeNode(2)\n",
    "q = TreeNode(8)\n",
    "\n",
    "print(Solution().lowestCommonAncestor(root, p, q).val)\n",
    "\n"
   ]
  },
  {
   "cell_type": "markdown",
   "metadata": {},
   "source": [
    "#### Approach 10.2\n",
    "\n",
    "We can rewrite the same code in more efficient way. The pseudocode & complexities remain same."
   ]
  },
  {
   "cell_type": "code",
   "execution_count": 25,
   "metadata": {},
   "outputs": [
    {
     "name": "stdout",
     "output_type": "stream",
     "text": [
      "6\n"
     ]
    }
   ],
   "source": [
    "\n",
    "class TreeNode:\n",
    "    def __init__(self, x):\n",
    "        self.val = x\n",
    "        self.left = None\n",
    "        self.right = None\n",
    "\n",
    "class Solution:\n",
    "    def lowestCommonAncestor(self, root: 'TreeNode', p: 'TreeNode', q: 'TreeNode') -> 'TreeNode':\n",
    "        while root:\n",
    "            v, pv, qv = root.val, p.val, q.val\n",
    "            if v > max(pv, qv): root = root.left\n",
    "            elif v < min(pv, qv): root = root.right\n",
    "            else: return root\n",
    "\n",
    "# [6,2,8,0,4,7,9,null,null,3,5]\n",
    "root = TreeNode(6)\n",
    "root.left = TreeNode(2)\n",
    "root.right = TreeNode(8)\n",
    "root.left.left = TreeNode(0)\n",
    "root.left.right = TreeNode(4)\n",
    "root.right.left = TreeNode(7)\n",
    "root.right.right = TreeNode(9)\n",
    "root.left.right.left = TreeNode(3)\n",
    "root.left.right.right = TreeNode(5)\n",
    "\"\"\"\n",
    "        __________6__________\n",
    "    ____2____           ____8____\n",
    "    0     ___4___       7       9\n",
    "          3     5 \n",
    "\"\"\"\n",
    "p = TreeNode(2)\n",
    "q = TreeNode(8)\n",
    "\n",
    "print(Solution().lowestCommonAncestor(root, p, q).val)\n",
    "\n"
   ]
  },
  {
   "cell_type": "markdown",
   "metadata": {},
   "source": [
    "#### Optional: Defining and printing a tree."
   ]
  },
  {
   "cell_type": "code",
   "execution_count": 26,
   "metadata": {},
   "outputs": [
    {
     "name": "stdout",
     "output_type": "stream",
     "text": [
      "Binary Tree:\n",
      "      6\n",
      "   3\n",
      "      5\n",
      "1\n",
      "   2\n",
      "      4\n"
     ]
    }
   ],
   "source": [
    "from collections import deque\n",
    "class TreeNode():\n",
    "    def __init__(self, val = 0, left = None, right = None):\n",
    "        self.val = val\n",
    "        self.left = left\n",
    "        self.right = right\n",
    "\n",
    "def populate_tree(root, values):\n",
    "    if not values: return None \n",
    "\n",
    "    root = TreeNode(values[0]) # initiate the root with the first value of values list\n",
    "    queue = deque([root]) # creating a queue to keep track of the nodes to populate future values\n",
    "    i = 1\n",
    "    n = len(values)\n",
    "\n",
    "    while i<n:\n",
    "        current = queue.popleft() # removing the left-most value from the queue and populating value\n",
    "\n",
    "        # adding value to the left node\n",
    "        if i<n and values[i] is not None:\n",
    "            current.left = TreeNode(values[i])\n",
    "            queue.append(current.left)\n",
    "        i += 1\n",
    "        \n",
    "        # adding value to the right node\n",
    "        if i<n and values[i] is not None:\n",
    "            current.right = TreeNode(values[i])\n",
    "            queue.append(current.right)\n",
    "        i += 1\n",
    "    return root\n",
    "\n",
    "def print_tree(root):\n",
    "    def inorder_traversal(node, depth = 0):\n",
    "        if node:\n",
    "            inorder_traversal(node.right, depth+1)\n",
    "            print(\"   \"*depth + str(node.val))\n",
    "            inorder_traversal(node.left, depth +1)\n",
    "    inorder_traversal(root)\n",
    "\n",
    "# Example usage:\n",
    "values = [1, 2, 3, 4, None, 5, 6]\n",
    "root = populate_tree(None, values)\n",
    "print(\"Binary Tree:\")\n",
    "print_tree(root)\n",
    "\n",
    "\n",
    "    \n"
   ]
  },
  {
   "cell_type": "markdown",
   "metadata": {},
   "source": [
    "### 11 [Balanced Binary Tree](https://leetcode.com/problems/balanced-binary-tree/)\n",
    "\n",
    "Given a binary tree, determine if it is height-balanced. A height-balanced binary tree is a binary tree in which the depth of the two subtrees of every node never differs by more than one.\n",
    "\n",
    "**Example 1:**\n",
    "```\n",
    "    __________3__________\n",
    "    9              ____20____\n",
    "                    15       7\n",
    "```\n",
    "    Input: root = [3,9,20,null,null,15,7]\n",
    "    Output: true\n",
    "\n",
    "**Example 2:**\n",
    "\n",
    "```\n",
    "        __________1__________\n",
    "    ____2____               2\n",
    "  __3__     3\n",
    "  4   4\n",
    "```\n",
    "nput: root = [1,2,2,3,3,null,null,4,4]\n",
    "Output: false\n",
    "Expaination: the tree on the righ has depth of 2, while on left side, the depth is 4.\n",
    "**Example 3:**\n",
    "\n",
    "Input: root = []\n",
    "Output: true "
   ]
  },
  {
   "cell_type": "markdown",
   "metadata": {},
   "source": [
    "#### Approach 11.1 DFS: Top-down approach\n",
    "\n",
    "**Time Complexity:** O(logn) \n",
    "    \n",
    "    T(n) = 2T(n/2) + O(n) ==> O(NlogN)\n",
    "\n",
    "-  In the average and best cases, where n is the number of nodes in the tree. \n",
    "   -  This is because the balanced nature of the tree ensures that insertions and deletions typically require traversing a logarithmic path length to reach the target node.\n",
    "-  In the worst case, if the tree becomes unbalanced due to a specific sequence of insertions/deletions, the time complexity could degrade to O(n).\n",
    "  \n",
    "**Space Complexity:** \n",
    "-  The recursive approach has a space complexity of O(log n) in the average case due to the function call stack used for recursion. \n",
    "   -  Each recursive call adds a new frame to the stack during the tree traversal. \n",
    "   -  In the worst case (unbalanced tree), the space complexity could approach O(n) due to a potentially deep stack.  "
   ]
  },
  {
   "cell_type": "code",
   "execution_count": 27,
   "metadata": {},
   "outputs": [
    {
     "name": "stdout",
     "output_type": "stream",
     "text": [
      "      7\n",
      "   20\n",
      "      15\n",
      "3\n",
      "   9\n",
      "Is root1 balanced? True\n",
      "   2\n",
      "1\n",
      "      3\n",
      "   2\n",
      "         4\n",
      "      3\n",
      "         4\n",
      "Is root2 balanced? False\n"
     ]
    }
   ],
   "source": [
    "def isBalancedTopDown(root: Optional[TreeNode]) -> bool:\n",
    "    # helper function to calculate the height of a subtree and check for balance\n",
    "    def getHeight(node):\n",
    "        if not node: return 0 # Base case: height of tree is 0\n",
    "        \n",
    "        # recusevily calculating the height of left & right subtrees\n",
    "        rl = getHeight(node.left)\n",
    "        rh = getHeight(node.right)\n",
    "        \n",
    "        # if either is unbalanced or current node is unbalances return -1 to indicate unbalanced tree\n",
    "        if rl == -1 or rh == -1 or abs(rl-rh)>1:\n",
    "            return -1\n",
    "        #else return the height of the subtree\n",
    "        return max(rh, rl)+1\n",
    "    return getHeight(root) != -1\n",
    "\n",
    "# example \n",
    "list_value = [3,9,20,None,None,15,7]\n",
    "root1 = populate_tree(None, list_value)\n",
    "print_tree(root1)\n",
    "print(\"Is root1 balanced?\", isBalancedTopDown(root1))\n",
    "\n",
    "list_value = [1,2,2,3,3,None,None ,4,4]\n",
    "root2 = populate_tree(None, list_value)\n",
    "print_tree(root2)\n",
    "\n",
    "print(\"Is root2 balanced?\", isBalancedTopDown(root2))"
   ]
  },
  {
   "cell_type": "markdown",
   "metadata": {},
   "source": [
    "#### Approach 11.2 DFS: Bottom-up approach\n",
    "\n",
    "\n",
    "\n",
    "**Time Complexity:** O(logn) \n",
    "\n",
    "-  In the average and best cases, where n is the number of nodes in the tree. \n",
    "   -  This is because the balanced nature of the tree ensures that insertions and deletions typically require traversing a logarithmic path length to reach the target node.\n",
    "-  In the worst case, if the tree becomes unbalanced due to a specific sequence of insertions/deletions, the time complexity could degrade to O(n).\n",
    "  \n",
    "**Space Complexity:** \n",
    "- O(1) in the average and worst cases. \n",
    "- It avoids the function call stack and typically uses a constant amount of extra space for variables and iterators during the tree manipulation.\n"
   ]
  },
  {
   "cell_type": "code",
   "execution_count": 28,
   "metadata": {},
   "outputs": [
    {
     "name": "stdout",
     "output_type": "stream",
     "text": [
      "      7\n",
      "   20\n",
      "      15\n",
      "3\n",
      "   9\n",
      "Is root1 balanced? True\n",
      "   2\n",
      "1\n",
      "      3\n",
      "   2\n",
      "         4\n",
      "      3\n",
      "         4\n",
      "Is root2 balanced? False\n"
     ]
    }
   ],
   "source": [
    "# Bottom-Up Approach\n",
    "def isBalancedBottomUp(root):\n",
    "    def getHeight(node):\n",
    "        if not node: return None\n",
    "\n",
    "        lh = isBalancedBottomUp(node.left)\n",
    "        if lh == -1: return -1\n",
    "\n",
    "        rh = isBalancedBottomUp(node.right)\n",
    "        if rh == -1: return -1\n",
    "\n",
    "        if abs(lh-rh)>1: return max(lh, rh) + 1\n",
    "        \n",
    "    return getHeight(root) != -1\n",
    "\n",
    "# example \n",
    "list_value = [3,9,20,None,None,15,7]\n",
    "root1 = populate_tree(None, list_value)\n",
    "print_tree(root1)\n",
    "print(\"Is root1 balanced?\", isBalancedTopDown(root1))\n",
    "\n",
    "list_value = [1,2,2,3,3,None,None ,4,4]\n",
    "root2 = populate_tree(None, list_value)\n",
    "print_tree(root2)\n",
    "\n",
    "print(\"Is root2 balanced?\", isBalancedTopDown(root2))\n"
   ]
  },
  {
   "cell_type": "markdown",
   "metadata": {},
   "source": [
    "#### Optional LinkedList\n",
    "\n",
    "Defining & printing linked lists. "
   ]
  },
  {
   "cell_type": "code",
   "execution_count": 47,
   "metadata": {},
   "outputs": [
    {
     "name": "stdout",
     "output_type": "stream",
     "text": [
      "Linked List:\n",
      "1 --> 2 --> 3 --> 4 --> 5 --> Cycle detected at node with value 3\n",
      "None\n"
     ]
    }
   ],
   "source": [
    "# Definition for singly-linked list.\n",
    "from typing import Optional\n",
    "\n",
    "# Definition for singly-linked list.\n",
    "class ListNode:\n",
    "    def __init__(self, x):\n",
    "        self.val = x\n",
    "        self.next = None\n",
    "\n",
    "def populate_list(head, list_value, cycleNode=-1):\n",
    "    if not list_value:\n",
    "        return None\n",
    "    \n",
    "    curr = head\n",
    "    cycleNodeHead = None\n",
    "    i = 0\n",
    "\n",
    "    for li in list_value:\n",
    "        curr.next = ListNode(li)\n",
    "        curr = curr.next\n",
    "        if i == cycleNode:\n",
    "            cycleNodeHead = curr\n",
    "        i += 1\n",
    "\n",
    "    if cycleNode != -1 and cycleNodeHead is not None:\n",
    "        curr.next = cycleNodeHead\n",
    "    \n",
    "    return head.next  # Return the actual head of the populated linked list\n",
    "\n",
    "def print_list(node, isCyclic=True):\n",
    "    visited = set()\n",
    "    while node:\n",
    "        if node in visited:\n",
    "            print(f\"Cycle detected at node with value {node.val}\")\n",
    "            break\n",
    "        print(node.val, \"--> \", end=\"\")\n",
    "        visited.add(node)\n",
    "        node = node.next\n",
    "    print(\"None\")\n",
    "\n",
    "# Example usage:\n",
    "values, cycle = [1, 2, 3, 4, 5], 2\n",
    "head = ListNode(0)  # Dummy head\n",
    "test1 = populate_list(head, values, cycle)\n",
    "print(\"Linked List:\")\n",
    "print_list(test1)\n"
   ]
  },
  {
   "cell_type": "markdown",
   "metadata": {},
   "source": [
    "### 12. [Linked List Cycle](https://leetcode.com/problems/linked-list-cycle/)\n",
    "\n",
    "Given head, the head of a linked list, determine if the linked list has a cycle in it.\n",
    "\n",
    "There is a cycle in a linked list if there is some node in the list that can be reached again by continuously following the next pointer. Internally, pos is used to denote the index of the node that tail's next pointer is connected to. Note that pos is not passed as a parameter.\n",
    "\n",
    "Return true if there is a cycle in the linked list. Otherwise, return false.\n",
    "\n",
    " \n",
    "\n",
    "Example 1:\n",
    "\n",
    "    3 --> 2 --> 0 --> -1 --|\n",
    "          |<---------------|\n",
    "\n",
    "    Input: head = [3,2,0,-4], pos = 1\n",
    "    Output: true\n",
    "    Explanation: There is a cycle in the linked list, where the tail connects to the 1st node (2 is present as index 1).\n",
    "\n",
    "Example 2:\n",
    "\n",
    "    1  --> 2 --|\n",
    "    |<---------|\n",
    "\n",
    "    Input: head = [1,2], pos = 0\n",
    "    Output: true\n",
    "    Explanation: There is a cycle in the linked list, where the tail connects to the 0th node.\n",
    "\n",
    "Example 3:\n",
    "\n",
    "    1\n",
    "    \n",
    "    Input: head = [1], pos = -1\n",
    "    Output: false\n",
    "    Explanation: There is no cycle in the linked list."
   ]
  },
  {
   "cell_type": "markdown",
   "metadata": {},
   "source": [
    "#### Approach 12.1 Using two pointers\n",
    "\n",
    "**Pseudocode:**\n",
    "\n",
    "- Initialize two pointers slow_pt and fast_pt at the head of the linked list.\n",
    "- Move slow_pt one step forward and fast_pt two steps forward.\n",
    "- If `fast_pt` or `fast_pt.next` becomes None (indicating the end of the list), terminate the loop.\n",
    "- Cycle Detection:\n",
    "  - Check if slow_pt and fast_pt meet (i.e., point to the same node).\n",
    "  - If they meet, it indicates the presence of a cycle, so return True.\n",
    "- If the loop terminates without finding a cycle, return False.\n",
    "\n",
    "**Time Complexity:**\n",
    "- The time complexity of this algorithm is O(n), where n is the number of nodes in the linked list.\n",
    "Both pointers traverse the linked list at different speeds, but the fast pointer moves twice as fast as the slow pointer. Thus, the slow pointer travels at most half the length of the list before being caught by the fast pointer.\n",
    "\n",
    "**Space Complexity:**\n",
    "\n",
    "- The space complexity of this algorithm is O(1).\n",
    "- It uses only a constant amount of extra space for the two pointers, regardless of the size of the linked list."
   ]
  },
  {
   "cell_type": "code",
   "execution_count": 30,
   "metadata": {},
   "outputs": [
    {
     "name": "stdout",
     "output_type": "stream",
     "text": [
      "3 --> 2 --> 0 --> -4 --> Cycle detected at node with value 2\n",
      "None\n",
      "Is there any cycle:  True\n"
     ]
    }
   ],
   "source": [
    "\n",
    "\n",
    "def hasCycleTwoPointer(head: Optional[ListNode]) -> bool:\n",
    "    slow_pt, fast_pt = head, head\n",
    "    while fast_pt and fast_pt.next:\n",
    "        slow_pt = slow_pt.next\n",
    "        fast_pt = fast_pt.next.next\n",
    "        if slow_pt == fast_pt: return True\n",
    "    return False\n",
    "\n",
    "# example\n",
    "values,cycle = [3,2,0,-4], 1\n",
    "head = ListNode(0) #dummy\n",
    "test1 = populate_list(head, values, cycle)\n",
    "print_list(test1, True)\n",
    "\n",
    "print(\"Is there any cycle: \", hasCycleTwoPointer(test1))"
   ]
  },
  {
   "cell_type": "markdown",
   "metadata": {},
   "source": [
    "#### Approach 12.2 Using Hashtables\n",
    "\n",
    "**Psuedocode:**\n",
    "```plaintext\n",
    "1. Initialize an empty set called 'hash' to store traversed nodes.\n",
    "2. Iterate through the linked list using a while loop until 'head' becomes None.\n",
    "3. At each iteration:\n",
    "     a. Check if the current node 'head' is already in the 'hash' set.\n",
    "     b. If it is, it means there is a cycle, so return True.\n",
    "     c. Otherwise, add the current node 'head' to the 'hash' set.\n",
    "     d. Move 'head' to the next node in the linked list.\n",
    "4. If the while loop completes without finding a cycle, return False.\n",
    "```\n",
    "\n",
    "**Time Complexity:**\n",
    "- The time complexity of this algorithm is O(n), where 'n' is the number of nodes in the linked list. \n",
    "- In the worst case, the algorithm needs to traverse the entire linked list to detect a cycle.\n",
    "\n",
    "**Space Complexity:**\n",
    "- The space complexity is also O(n), where 'n' is the number of nodes in the linked list.\n",
    "- This is because the set 'hash' can potentially store all nodes in the linked list in the worst case, if there is a cycle."
   ]
  },
  {
   "cell_type": "code",
   "execution_count": 31,
   "metadata": {},
   "outputs": [
    {
     "name": "stdout",
     "output_type": "stream",
     "text": [
      "3 --> 2 --> 0 --> -4 --> Cycle detected at node with value 2\n",
      "None\n",
      "Is there any cycle:  True\n"
     ]
    }
   ],
   "source": [
    "def hasCycleHashTable(head: Optional[ListNode]) -> bool:\n",
    "    hash = set() # stores the traversed nodes\n",
    "    while head:\n",
    "        if head in hash:\n",
    "            return True\n",
    "        hash.add(head)\n",
    "        head = head.next\n",
    "\n",
    "# example\n",
    "values,cycle = [3,2,0,-4], 1\n",
    "head = ListNode(0) #dummy\n",
    "test1 = populate_list(head, values, cycle)\n",
    "print_list(test1, True)\n",
    "\n",
    "print(\"Is there any cycle: \", hasCycleHashTable(test1))"
   ]
  },
  {
   "cell_type": "markdown",
   "metadata": {},
   "source": [
    "### 13 [Implement Queue using Stacks](https://leetcode.com/problems/implement-queue-using-stacks/)\n",
    "\n",
    "Implement a first in first out (FIFO) queue using only two stacks. The implemented queue should support all the functions of a normal queue (`push`, `peek`, `pop`, and `empty`).\n",
    "\n",
    "Implement the `MyQueue` class:\n",
    "\n",
    "- `void push(int x)` Pushes element x to the back of the queue.\n",
    "- `int pop()` Removes the element from the front of the queue and returns it.\n",
    "- `int peek()` Returns the element at the front of the queue.\n",
    "- `boolean empty()` Returns `true` if the queue is empty, `false` otherwise.\n",
    "Notes:\n",
    "\n",
    "You must use only standard operations of a stack, which means only `push to top`, `peek/pop from top`, `size`, and `is empty` operations are valid.\n",
    "Depending on your language, the stack may not be supported natively. You may simulate a stack using a list or deque (double-ended queue) as long as you use only a stack's standard operations.\n",
    " \n",
    "\n",
    "Example 1:\n",
    "\n",
    "    Input\n",
    "    [\"MyQueue\", \"push\", \"push\", \"peek\", \"pop\", \"empty\"]\n",
    "    [[], [1], [2], [], [], []]\n",
    "    Output\n",
    "    [null, null, null, 1, 1, false]\n",
    "\n",
    "    Explanation\n",
    "    MyQueue myQueue = new MyQueue();\n",
    "    myQueue.push(1); // queue is: [1]\n",
    "    myQueue.push(2); // queue is: [1, 2] (leftmost is front of the queue)\n",
    "    myQueue.peek(); // return 1\n",
    "    myQueue.pop(); // return 1, queue is [2]\n",
    "    myQueue.empty(); // return false"
   ]
  },
  {
   "cell_type": "markdown",
   "metadata": {},
   "source": [
    "#### Approach 13.1 Simple approach\n",
    "\n",
    "**Pseudocode**:\n",
    "```\n",
    "1. Initialize two empty stacks, s1 and s2.\n",
    "2. Implement push operation:\n",
    "    a. While s1 is not empty, pop elements from s1 and push them to s2.\n",
    "    b. Push the new element to s1.\n",
    "    c. While s2 is not empty, pop elements from s2 and push them back to s1.\n",
    "3. Implement pop operation:\n",
    "    a. Pop and return the top element from s1.\n",
    "4. Implement peek operation:\n",
    "    a. Return the top element of s1 without removing it.\n",
    "5. Implement empty operation:\n",
    "    a. Return True if s1 is empty, False otherwise.\n",
    "```\n",
    "\n",
    "**Time Complexity**:\n",
    "- **Push**: O(n) - In the worst case, when s1 has n elements, transferring them to s2 takes O(n) time.\n",
    "- **Pop**: O(1) - Simply pops the top element from s1.\n",
    "- **Peek**: O(1) - Accesses the top element of s1 without removing it.\n",
    "- **Empty**: O(1) - Checks if s1 is empty.\n",
    "\n",
    "**Space Complexity**:\n",
    "- O(n) - Both stacks, s1 and s2, can potentially store all elements of the queue, resulting in linear space complexity."
   ]
  },
  {
   "cell_type": "code",
   "execution_count": 32,
   "metadata": {},
   "outputs": [
    {
     "name": "stdout",
     "output_type": "stream",
     "text": [
      "2\n",
      "2\n",
      "1\n",
      "False\n"
     ]
    }
   ],
   "source": [
    "class MyQueue:\n",
    "\n",
    "    def __init__(self):\n",
    "        self.s1 = []\n",
    "        self.s2 = []\n",
    "\n",
    "    def push(self, x: int) -> None:\n",
    "        while self.s1: self.s2.append(self.s1.pop())\n",
    "        self.s1.append(x)\n",
    "        while self.s2: self.s1.append(self.s2.pop())\n",
    "\n",
    "    def pop(self) -> int:\n",
    "        return self.s1.pop()\n",
    "\n",
    "    def peek(self) -> int:\n",
    "        return self.s1[-1]\n",
    "\n",
    "    def empty(self) -> bool:\n",
    "        return not self.s1\n",
    "\n",
    "mq = MyQueue()\n",
    "mq.push(2)\n",
    "mq.push(1)\n",
    "print(mq.peek())\n",
    "print(mq.pop())\n",
    "print(mq.peek())\n",
    "print(mq.empty())"
   ]
  },
  {
   "cell_type": "markdown",
   "metadata": {},
   "source": [
    "### 14. [First Bad Version](https://leetcode.com/problems/first-bad-version/)\n",
    "\n",
    "You are a product manager and currently leading a team to develop a new product. Unfortunately, the latest version of your product fails the quality check. Since each version is developed based on the previous version, all the versions after a bad version are also bad.\n",
    "\n",
    "Suppose you have n versions [1, 2, ..., n] and you want to find out the first bad one, which causes all the following ones to be bad.\n",
    "\n",
    "You are given an API bool isBadVersion(version) which returns whether version is bad. Implement a function to find the first bad version. You should minimize the number of calls to the API.\n",
    "\n",
    " \n",
    "\n",
    "Example 1:\n",
    "\n",
    "    Input: n = 5, bad = 4\n",
    "    Output: 4\n",
    "    Explanation:\n",
    "    call isBadVersion(3) -> false\n",
    "    call isBadVersion(5) -> true\n",
    "    call isBadVersion(4) -> true\n",
    "    Then 4 is the first bad version.\n",
    "\n",
    "Example 2:\n",
    "\n",
    "    Input: n = 1, bad = 1\n",
    "    Output: 1\n"
   ]
  },
  {
   "cell_type": "markdown",
   "metadata": {},
   "source": [
    "#### Approach 14.1\n",
    "\n",
    "**Description**\n",
    "The function `firstBadVersion` is designed to find the first bad version in a series of versions ranging from 1 to `n`. The function uses a binary search approach to efficiently determine the first bad version by narrowing down the search range based on whether a mid-point version is bad or not. The function `isBadVersion(mid, hidden)` is assumed to check if a version is bad, where `hidden` is the actual first bad version.\n",
    "\n",
    "**Pseudocode**\n",
    "```python\n",
    "def firstBadVersion(n, hidden):\n",
    "    start, end = 0, n\n",
    "    while end - start > 1:\n",
    "        mid = start + (end - start) // 2\n",
    "        if isBadVersion(mid, hidden):\n",
    "            end = mid\n",
    "        else:\n",
    "            start = mid\n",
    "    return end\n",
    "```\n",
    "\n",
    "**Time Complexity**\n",
    "The time complexity of this function is \\(O(log n)\\). This is because the function uses binary search, which reduces the search space by half in each iteration.\n",
    "\n",
    "**Space Complexity**\n",
    "The space complexity of this function is \\(O(1)\\). The function uses a constant amount of extra space regardless of the input size `n`, as it only uses a few integer variables (`start`, `end`, and `mid`)."
   ]
  },
  {
   "cell_type": "code",
   "execution_count": 33,
   "metadata": {},
   "outputs": [
    {
     "name": "stdout",
     "output_type": "stream",
     "text": [
      "33\n",
      "2\n",
      "99\n"
     ]
    }
   ],
   "source": [
    "def isBadVersion(version: int, unknown:int):\n",
    "    return version >= unknown\n",
    "\n",
    "def firstBadVersion( n: int, hidden: int) -> int:\n",
    "    start,end = 0,n\n",
    "    while end-start>1:\n",
    "        mid = start + (end-start)//2 # represents mid of start and end: (start+end)/2\n",
    "        if isBadVersion(mid, hidden): # we dont know the value of hidden, we need to find out.\n",
    "            end = mid \n",
    "        else: start = mid\n",
    "    return end\n",
    "\n",
    "# example\n",
    "test1 = [45, 88, 122]\n",
    "unknown_ = [33, 2, 99]\n",
    "\n",
    "for i in range(len(test1)):\n",
    "    print(firstBadVersion(test1[i], unknown_[i]))\n"
   ]
  },
  {
   "cell_type": "markdown",
   "metadata": {},
   "source": [
    "### 15. [Ransom Note](https://leetcode.com/problems/ransom-note/)\n",
    "\n",
    "Given two strings ransomNote and magazine, return true if ransomNote can be constructed by using the letters from magazine and false otherwise.\n",
    "\n",
    "Each letter in magazine can only be used once in ransomNote.\n",
    "\n",
    "Example 1:\n",
    "\n",
    "    Input: ransomNote = \"a\", magazine = \"b\"\n",
    "    Output: false\n",
    "\n",
    "Example 2:\n",
    "\n",
    "    Input: ransomNote = \"aa\", magazine = \"ab\"\n",
    "    Output: false\n",
    "\n",
    "Example 3:\n",
    "\n",
    "    Input: ransomNote = \"aa\", magazine = \"aab\"\n",
    "    Output: true\n"
   ]
  },
  {
   "cell_type": "markdown",
   "metadata": {},
   "source": [
    "#### Approach 15.1 Basic method\n",
    "\n",
    "**Description:** This function checks if it's possible to construct a ransom note from a given magazine. It iterates through the magazine to count the occurrences of each character, then iterates through the ransom note to subtract the counts of characters found in the magazine. If all characters in the ransom note are found in the magazine with sufficient counts, it returns True; otherwise, False.\n",
    "\n",
    "**Time complexity:** \n",
    "- \\(O(m + n)\\), where \\(m\\) is the length of the magazine string and \\(n\\) is the length of the ransomNote string.\n",
    "\n",
    "**Space complexity:** \n",
    "- \\(O(m)\\), where \\(m\\) is the length of the magazine string, due to the creation of the stack dictionary to store character counts."
   ]
  },
  {
   "cell_type": "code",
   "execution_count": 34,
   "metadata": {},
   "outputs": [
    {
     "name": "stdout",
     "output_type": "stream",
     "text": [
      "b can be made by  a :  False\n",
      "ab can be made by  aa :  False\n",
      "aab can be made by  aa :  True\n"
     ]
    }
   ],
   "source": [
    "def canConstruct(ransomNote: str, magazine: str) -> bool:\n",
    "    if not set(ransomNote).issubset(set(magazine)): \n",
    "        return False\n",
    "    stack = {}\n",
    "    for ch in magazine:\n",
    "        if ch in stack.keys():  stack[ch] +=1\n",
    "        else: stack[ch]= 1\n",
    "    for ch in ransomNote:\n",
    "        if ch in stack.keys() and stack[ch]>=0:\n",
    "            stack[ch] -= 1\n",
    "        else: return False\n",
    "\n",
    "    return min(stack.values())>=0  \n",
    "\n",
    "# example:\n",
    "test1 = [\"a\", \"aa\", \"aa\"]\n",
    "test2 = [\"b\", \"ab\", \"aab\"]\n",
    "\n",
    "for i in range(len(test1)):\n",
    "    print(test2[i], \"can be made by \", test1[i], \": \", canConstruct(test1[i], test2[i]))"
   ]
  },
  {
   "cell_type": "markdown",
   "metadata": {},
   "source": [
    "#### Approach 15.2 Optimised method\n",
    "\n",
    "Same approach as 15.1 but more organised and optimised flow. Time complexity remains same."
   ]
  },
  {
   "cell_type": "code",
   "execution_count": 35,
   "metadata": {},
   "outputs": [
    {
     "name": "stdout",
     "output_type": "stream",
     "text": [
      "b can be made by  a :  False\n",
      "ab can be made by  aa :  False\n",
      "aab can be made by  aa :  True\n"
     ]
    }
   ],
   "source": [
    "\n",
    "def canConstructOptimum(ransomNote: str, magazine: str) -> bool:\n",
    "    # count character frequency in the magazine\n",
    "    char_count = {}\n",
    "    for char in magazine:\n",
    "        char_count[char] = char_count.get(char, 0) + 1\n",
    "\n",
    "    # check if all characters in ransomNote can be formed from magazine\n",
    "    for char in ransomNote:\n",
    "        if char not in char_count or char_count[char] == 0:\n",
    "            return False\n",
    "        char_count[char] -= 1  # deecrement count for used characters\n",
    "\n",
    "    return True\n",
    "\n",
    "# example:\n",
    "test1 = [\"a\", \"aa\", \"aa\"]\n",
    "test2 = [\"b\", \"ab\", \"aab\"]\n",
    "\n",
    "for i in range(len(test1)):\n",
    "    print(test2[i], \"can be made by \", test1[i], \": \", canConstructOptimum(test1[i], test2[i]))"
   ]
  },
  {
   "cell_type": "markdown",
   "metadata": {},
   "source": [
    "#### Approach 15.3 using Collections\n",
    "\n",
    "**Description:** This optimized function uses the Counter class from the collections module to directly compare the counts of characters in both the ransom note and the magazine. It prints the count of characters in the ransom note and returns True if the count of characters in the ransom note is less than or equal to the count of characters in the magazine; otherwise, it returns False.\n",
    "\n",
    "**Time complexity:** \n",
    "- \\(O(m + n)\\), where \\(m\\) is the length of the magazine string and \\(n\\) is the length of the ransomNote string. This complexity arises from the creation of Counter objects for both strings.\n",
    "\n",
    "**Space complexity:** \n",
    "- \\(O(m + n)\\), where \\(m\\) is the number of unique characters in the ransom note and \\(n\\) is the number of unique characters in the magazine. This complexity arises from the creation of Counter objects for both strings.\n"
   ]
  },
  {
   "cell_type": "code",
   "execution_count": 36,
   "metadata": {},
   "outputs": [
    {
     "name": "stdout",
     "output_type": "stream",
     "text": [
      "Counter object of ransomNode & magazine:  Counter({'a': 1}) Counter({'b': 1})\n",
      "b can be made by  a :  False\n",
      "Counter object of ransomNode & magazine:  Counter({'a': 2}) Counter({'a': 1, 'b': 1})\n",
      "ab can be made by  aa :  False\n",
      "Counter object of ransomNode & magazine:  Counter({'a': 2}) Counter({'a': 2, 'b': 1})\n",
      "aab can be made by  aa :  True\n"
     ]
    }
   ],
   "source": [
    "from collections import Counter\n",
    "def canConstructOptimum(ransomNote: str, magazine: str) -> bool:\n",
    "    print(\"Counter object of ransomNode & magazine: \", Counter(ransomNote), Counter(magazine))\n",
    "    ransom_counter = Counter(ransomNote)\n",
    "    magazine_counter = Counter(magazine)\n",
    "    for char in ransom_counter:\n",
    "        if ransom_counter[char] > magazine_counter[char]:\n",
    "            return False\n",
    "    return True\n",
    "\n",
    "# example:\n",
    "test1 = [\"a\", \"aa\", \"aa\"]\n",
    "test2 = [\"b\", \"ab\", \"aab\"]\n",
    "\n",
    "for i in range(len(test1)):\n",
    "    print(test2[i], \"can be made by \", test1[i], \": \", canConstructOptimum(test1[i], test2[i]))"
   ]
  },
  {
   "cell_type": "markdown",
   "metadata": {},
   "source": [
    "### 16. [Climbing Stairs](https://leetcode.com/problems/climbing-stairs/)\n",
    "\n",
    "You are climbing a staircase. It takes n steps to reach the top.\n",
    "\n",
    "Each time you can either climb 1 or 2 steps. In how many distinct ways can you climb to the top?\n",
    "\n",
    " \n",
    "\n",
    "Example 1:\n",
    "\n",
    "    Input: n = 2\n",
    "    Output: 2\n",
    "    Explanation: There are two ways to climb to the top.\n",
    "    1. 1 step + 1 step\n",
    "    2. 2 steps\n",
    "\n",
    "Example 2:\n",
    "\n",
    "    Input: n = 3\n",
    "    Output: 3\n",
    "    Explanation: There are three ways to climb to the top.\n",
    "    1. 1 step + 1 step + 1 step\n",
    "    2. 1 step + 2 steps\n",
    "    3. 2 steps + 1 step"
   ]
  },
  {
   "cell_type": "markdown",
   "metadata": {},
   "source": [
    "#### Approach 16.1 Similar to Fibonacci sequence\n",
    "\n",
    "**Description:** \n",
    "- method `climbStairs` that calculates the number of distinct ways to climb n steps, where each time you can either climb 1 or 2 steps.\n",
    "- The number of steps to reach at position `n` is always sum of steps to reach `n-1` and `n-2`.\n",
    "- So, we manually initialize 0th, 1st and 2nd steps. Later steps are calculated by previous values of 2 steps. \n",
    "\n",
    "**Time complexity:** O(n) - The loop iterates over 'n' steps once, resulting in a linear time complexity.\n",
    "\n",
    "**Space complexity:** O(n) - The space complexity arises from the list `track`, which stores the number of ways to climb each step up to 'n'. The size of the list grows linearly with 'n', resulting in O(n) space complexity."
   ]
  },
  {
   "cell_type": "code",
   "execution_count": 37,
   "metadata": {},
   "outputs": [
    {
     "name": "stdout",
     "output_type": "stream",
     "text": [
      "Numebr of ways to reach step  1  is:  1\n",
      "Numebr of ways to reach step  2  is:  2\n",
      "Numebr of ways to reach step  3  is:  3\n",
      "Numebr of ways to reach step  4  is:  5\n",
      "Numebr of ways to reach step  5  is:  8\n",
      "Numebr of ways to reach step  6  is:  13\n"
     ]
    }
   ],
   "source": [
    "def climbStairs(n: int) -> int:\n",
    "        if n <= 0: return 0\n",
    "        if n== 1: return 1\n",
    "        if n == 2: return 2\n",
    "\n",
    "        track = [0,1,2]\n",
    "        for i in range(2,n):\n",
    "            temp = track[i-0]+track[i-1]\n",
    "            track.append(temp)\n",
    "        return track.pop()\n",
    "\n",
    "\n",
    "# example:\n",
    "test1 = [1,2,3,4,5,6]\n",
    "\n",
    "for i in range(len(test1)):\n",
    "    print(\"Numebr of ways to reach step \", test1[i], \" is: \", climbStairs(test1[i]))"
   ]
  },
  {
   "cell_type": "markdown",
   "metadata": {},
   "source": [
    "### 17.  [Longest Palindrome](https://leetcode.com/problems/longest-palindrome/)\n",
    "\n",
    "Given a string s which consists of lowercase or uppercase letters, return the length of the longest palindrome that can be built with those letters.\n",
    "\n",
    "Letters are case sensitive, for example, \"Aa\" is not considered a palindrome here.\n",
    "\n",
    " \n",
    "\n",
    "Example 1:\n",
    "\n",
    "    Input: s = \"abccccdd\"\n",
    "    Output: 7\n",
    "    Explanation: One longest palindrome that can be built is \"dccaccd\", whose length is 7.\n",
    "\n",
    "Example 2:\n",
    "\n",
    "    Input: s = \"a\"\n",
    "    Output: 1\n",
    "    Explanation: The longest palindrome that can be built is \"a\", whose length is 1.\n",
    " \n",
    "\n"
   ]
  },
  {
   "cell_type": "markdown",
   "metadata": {},
   "source": [
    "#### Approach 17.1 Simple approach\n",
    "\n",
    "**Concepts:** The code iterates through each character in the string `s`, maintaining a dictionary `tracker` to count the occurrences of each character. For each character, it checks if the count is even. If so, it increments the `palindrome_len` by 2 and sets the count to 0 in the `tracker`. Finally, it returns the `palindrome_len`, adjusting it by 1 if the length is less than the length of the input string `s`.\n",
    "\n",
    "**Time Complexity:** \n",
    "- \\(O(n)\\) where \\(n\\) is the length of the input string `s`. The code iterates through the string once and performs constant time operations for each character.\n",
    "\n",
    "**Space Complexity:** \n",
    "- \\(O(k)\\) where \\(k\\) is the number of unique characters in the input string `s`. The space complexity is determined by the size of the `tracker` dictionary, which can contain at most \\(k\\) key-value pairs, one for each unique character in `s`."
   ]
  },
  {
   "cell_type": "code",
   "execution_count": 38,
   "metadata": {},
   "outputs": [
    {
     "name": "stdout",
     "output_type": "stream",
     "text": [
      "Biggest palindrome using the words  abaabuffu  is:  9\n",
      "Biggest palindrome using the words  tytytyty  is:  8\n",
      "Biggest palindrome using the words  zooombaz  is:  5\n"
     ]
    }
   ],
   "source": [
    "def longestPalindrome(s: str) -> int:\n",
    "        tracker = {}\n",
    "        palindrome_len = 0\n",
    "        for ch in s:\n",
    "            tracker[ch] = tracker.get(ch, 0)+1\n",
    "            #for count in tracker.values():\n",
    "            if tracker.get(ch)%2 == 0:\n",
    "                palindrome_len += 2\n",
    "                tracker[ch] = 0\n",
    "        \n",
    "        if palindrome_len < len(s): return palindrome_len +1\n",
    "        else: return palindrome_len\n",
    "\n",
    "\n",
    "# example:\n",
    "test1 = [\"abaabuffu\", \"tytytyty\", \"zooombaz\"]\n",
    "\n",
    "for i in range(len(test1)):\n",
    "    print(\"Biggest palindrome using the words \", test1[i], \" is: \", longestPalindrome(test1[i]))"
   ]
  },
  {
   "cell_type": "markdown",
   "metadata": {},
   "source": [
    "### 18. [Reverse Linked List](https://leetcode.com/problems/reverse-linked-list/)\n",
    "\n",
    "Given the head of a singly linked list, reverse the list, and return the reversed list.\n",
    "\n",
    "Example 1:\n",
    "\n",
    "    Input: head = [1,2,3,4,5]\n",
    "    Output: [5,4,3,2,1]\n",
    "\n",
    "Example 2:\n",
    "\n",
    "    Input: head = [1,2]\n",
    "    Output: [2,1]\n",
    "\n",
    "Example 3:\n",
    "\n",
    "    Input: head = []\n",
    "    Output: []\n",
    " "
   ]
  },
  {
   "cell_type": "markdown",
   "metadata": {},
   "source": [
    "#### Approach 18.1 Iterative approach\n",
    "\n",
    "**Concepts**\n",
    "- This algorithm reverses a singly linked list.\n",
    "- It uses three pointers: `prev` to keep track of the previous node, `curr` to traverse the list, and `next` to temporarily store the next node.\n",
    "- By iterating through the list, it changes the direction of each node's `next` pointer to reverse the list.\n",
    "\n",
    "**Time Complexity**\n",
    "- **O(n)**: The algorithm makes a single pass through the list, where `n` is the number of nodes in the list.\n",
    "\n",
    "**Space Complexity**\n",
    "- **O(1)**: The algorithm uses a constant amount of extra space regardless of the size of the input list."
   ]
  },
  {
   "cell_type": "code",
   "execution_count": 55,
   "metadata": {},
   "outputs": [
    {
     "name": "stdout",
     "output_type": "stream",
     "text": [
      "Linked List:\n",
      "1 --> 2 --> 3 --> 4 --> 5 --> None\n",
      "Revered Linked list is: \n",
      "5 --> 4 --> 3 --> 2 --> 1 --> None\n"
     ]
    }
   ],
   "source": [
    "def reverseList(head: Optional[ListNode]) -> Optional[ListNode]:\n",
    "    prev = None\n",
    "    curr = head\n",
    "    while curr:\n",
    "        next = curr.next\n",
    "        curr.next = prev\n",
    "        prev = curr\n",
    "        curr = next\n",
    "    return prev\n",
    "\n",
    "values = [1, 2, 3, 4, 5]\n",
    "head = ListNode(0)\n",
    "test1 = populate_list(head, values)\n",
    "print(\"Linked List:\")\n",
    "print_list(test1)\n",
    "\n",
    "\n",
    "reversed_list1 = reverseList(test1)\n",
    "print(\"Revered Linked list is: \", ) \n",
    "print_list(reversed_list1)"
   ]
  },
  {
   "cell_type": "markdown",
   "metadata": {},
   "source": [
    "#### 18.2 Recursive approach\n",
    "\n"
   ]
  },
  {
   "cell_type": "code",
   "execution_count": 56,
   "metadata": {},
   "outputs": [
    {
     "name": "stdout",
     "output_type": "stream",
     "text": [
      "1 --> 2 --> 3 --> 4 --> 5 --> None\n",
      "Revered Linked list is: \n",
      "5 --> 4 --> 3 --> 2 --> 1 --> None\n"
     ]
    }
   ],
   "source": [
    "def reverseListRecursive(head: Optional[ListNode]) -> Optional[ListNode]:\n",
    "    if not head  or not head.next:\n",
    "        return head\n",
    "    new_head = reverseListRecursive(head.next)\n",
    "    head.next.next = head\n",
    "    head.next = None\n",
    "    return new_head\n",
    "     \n",
    "# example:\n",
    "list1 = [1,2,3,4,5]\n",
    "head = ListNode(0)\n",
    "test1 = populate_list(head, list1 )\n",
    "print_list(test1)\n",
    "\n",
    "\n",
    "reversed_list1 = reverseListRecursive(test1)\n",
    "# the returned object is not a linked list, instead a list_reverseiterator object.\n",
    "print(\"Revered Linked list is: \") # ListNode can be converted to list\n",
    "print_list(reversed_list1)"
   ]
  },
  {
   "cell_type": "markdown",
   "metadata": {},
   "source": [
    "### 19. [Majority Element](https://leetcode.com/problems/majority-element/description/)\n",
    "\n",
    "Given an array nums of size n, return the majority element.\n",
    "\n",
    "The majority element is the element that appears more than ⌊n / 2⌋ times. You may assume that the majority element always exists in the array.\n",
    "\n",
    " \n",
    "Example 1:\n",
    "\n",
    "Input: nums = [3,2,3]\n",
    "Output: 3\n",
    "Example 2:\n",
    "\n",
    "Input: nums = [2,2,1,1,1,2,2]\n",
    "Output: 2\n",
    " \n",
    "\n",
    "Constraints:\n",
    "\n",
    "n == nums.length\n",
    "1 <= n <= 5 * 104\n",
    "-109 <= nums[i] <= 109\n"
   ]
  },
  {
   "cell_type": "markdown",
   "metadata": {},
   "source": [
    "#### Method 19.1: Basic impletmentation\n",
    "\n",
    "**Time Complexity:**\n",
    "\n",
    "* **`set(nums)`:**  Creating a set from a list takes O(n) time, where n is the length of the list. This is because it needs to iterate through the list and add each unique element to the set.\n",
    "* **`for num in set(nums)`:** This loop iterates over each unique number in the set. In the worst case, the number of unique elements could be equal to the length of the original list (n). So, this loop has a time complexity of O(n).\n",
    "* **`nums.count(num)`:** The `count()` method iterates through the entire list `nums` to count the occurrences of `num`. This takes O(n) time.\n",
    "\n",
    "Since the `nums.count(num)` operation is nested inside the loop that iterates over the set, the overall time complexity of the function is **O(n * n) = O(n^2)** in the worst-case scenario.\n",
    "\n",
    "**Space Complexity:**\n",
    "\n",
    "* **`set(nums)`:** In the worst case (all elements in `nums` are unique), the set will store all n elements of the list. This requires O(n) space.\n",
    "\n",
    "Therefore, the space complexity of the function is **O(n)**.\n"
   ]
  },
  {
   "cell_type": "code",
   "execution_count": 57,
   "metadata": {},
   "outputs": [
    {
     "name": "stdout",
     "output_type": "stream",
     "text": [
      "Finding majority elememts in  [1, 2, 2, 2, 3]  is:  2\n",
      "Finding majority elememts in  [2, 4, 5, 6, 6, 6, 6]  is:  6\n",
      "Finding majority elememts in  [1, 2, 2, 2, 20]  is:  2\n"
     ]
    }
   ],
   "source": [
    "def majorityElement(nums: List[int]) -> int:\n",
    "        if len(nums) == 1: return nums[0]\n",
    "        for num in set(nums):\n",
    "            if nums.count(num)>len(nums)/2:\n",
    "                return num\n",
    "            \n",
    "test1 = [[1,2,2, 2,3], [2,4,5,6,6,6,6], [1,2,2,2,20]]\n",
    "\n",
    "for i in range(len(test1)):\n",
    "    print(\"Finding majority elememts in \", test1[i], \" is: \", majorityElement(test1[i]))"
   ]
  },
  {
   "cell_type": "markdown",
   "metadata": {},
   "source": [
    "#### Method 19.2 Sorted but more efficient\n",
    "\n",
    "This code finds the majority element in a list by sorting the list and returning the element at the middle index.\n",
    "\n",
    "**Complexities:**\n",
    "\n",
    "* **Time Complexity:** O(n log n) due to the sorting step.\n",
    "* **Space Complexity:**  Most likely O(1) for in-place sorting algorithms, but could be O(log n) depending on the sorting implementation.\n",
    "\n",
    "**Pros:**\n",
    "\n",
    "* Simple and easy to understand.\n",
    "* Concise code.\n",
    "\n",
    "**Cons:**\n",
    "\n",
    "* Modifies the original list (because of `sort()`).\n",
    "* Not the most time-efficient approach.\n",
    "\n",
    "**Improvements:**\n",
    "\n",
    "* Use the Boyer-Moore Voting Algorithm for O(n) time complexity.\n",
    "* Create a copy of the list before sorting to preserve the original order.\n",
    "* Add a check to handle cases where the input list is empty or doesn't have a majority element.\n"
   ]
  },
  {
   "cell_type": "code",
   "execution_count": 58,
   "metadata": {},
   "outputs": [
    {
     "name": "stdout",
     "output_type": "stream",
     "text": [
      "Finding majority elememts in  [1, 2, 2, 2, 3]  is:  2\n",
      "Finding majority elememts in  [2, 4, 5, 6, 6, 6, 6]  is:  6\n",
      "Finding majority elememts in  [1, 2, 2, 2, 20]  is:  2\n"
     ]
    }
   ],
   "source": [
    "def majorityElement(nums: List[int]) -> int:\n",
    "    nums.sort()\n",
    "    return nums[int(len(nums)/2)]\n",
    "            \n",
    "test1 = [[1,2,2, 2,3], [2,4,5,6,6,6,6], [1,2,2,2,20]]\n",
    "\n",
    "for i in range(len(test1)):\n",
    "    print(\"Finding majority elememts in \", test1[i], \" is: \", majorityElement(test1[i]))"
   ]
  },
  {
   "cell_type": "markdown",
   "metadata": {},
   "source": [
    "#### Method 19.3: Boyer-Moore Voting Algorithm\n",
    "\n",
    "This code implements the Boyer-Moore Voting Algorithm to find the majority element in a list.\n",
    "\n",
    "**Complexities:**\n",
    "\n",
    "* **Time Complexity:** O(n) -  It makes a single pass through the list.\n",
    "* **Space Complexity:** O(1) - It uses only a fixed amount of extra space for `count` and `candidate`.\n",
    "\n",
    "**Pros:**\n",
    "\n",
    "* Efficient with linear time complexity.\n",
    "* Low space complexity.\n",
    "* Doesn't modify the original list.\n",
    "\n",
    "**Cons:**\n",
    "\n",
    "*  Might be slightly less intuitive to understand compared to the sorting-based approach.\n",
    "\n",
    "**Improvements:**\n",
    "\n",
    "*  While this code is already quite efficient, you could add a second pass through the list to verify that the returned `candidate` is actually the majority element. This would handle cases where no majority element exists. However, the problem statement usually specifies that a majority element always exists."
   ]
  },
  {
   "cell_type": "code",
   "execution_count": 59,
   "metadata": {},
   "outputs": [
    {
     "name": "stdout",
     "output_type": "stream",
     "text": [
      "Finding majority elememts in  [1, 2, 2, 2, 3]  is:  2\n",
      "Finding majority elememts in  [2, 4, 5, 6, 6, 6, 6]  is:  6\n",
      "Finding majority elememts in  [1, 2, 2, 2, 20]  is:  2\n"
     ]
    }
   ],
   "source": [
    "def majorityElement(nums: List[int]) -> int:\n",
    "    count, candidate = 0,0\n",
    "    for num in nums:\n",
    "        if count == 0: candidate = num\n",
    "        if num == candidate: count+=1\n",
    "        else: count-=1\n",
    "    return candidate    \n",
    "            \n",
    "test1 = [[1,2,2, 2,3], [2,4,5,6,6,6,6], [1,2,2,2,20]]\n",
    "\n",
    "for i in range(len(test1)):\n",
    "    print(\"Finding majority elememts in \", test1[i], \" is: \", majorityElement(test1[i]))"
   ]
  },
  {
   "cell_type": "markdown",
   "metadata": {},
   "source": [
    "### 20. [Add Binary](https://leetcode.com/problems/add-binary)\n",
    "\n",
    "Given two binary strings a and b, return their sum as a binary string.\n",
    "\n",
    "\n",
    "Example 1:\n",
    "\n",
    "Input: a = \"11\", b = \"1\"\n",
    "Output: \"100\"\n",
    "Example 2:\n",
    "\n",
    "Input: a = \"1010\", b = \"1011\"\n",
    "Output: \"10101\"\n",
    " \n",
    "\n",
    "Constraints:\n",
    "\n",
    "1 <= a.length, b.length <= 104\n",
    "a and b consist only of '0' or '1' characters.\n",
    "Each string does not contain leading zeros except for the zero itself."
   ]
  },
  {
   "cell_type": "markdown",
   "metadata": {},
   "source": [
    "#### Method 20.1: converting to int \n",
    "\n",
    "This code adds two binary strings (`a` and `b`) by iterating through them from right to left (least significant bit to most significant bit), similar to how you'd perform manual binary addition. It maintains a `carry` variable to handle overflows. In each step, it adds the corresponding digits and the carry, appends the result's unit digit to the `sum`, and updates the `carry` for the next iteration.\n",
    "\n",
    "**Complexities:**\n",
    "\n",
    "* **Time Complexity:** O(max(N, M)), where N and M are the lengths of the input strings `a` and `b`. This is because the algorithm iterates through the strings once.\n",
    "* **Space Complexity:** O(max(N, M)) - The space used is primarily for the `sum` string, which stores the result of the binary addition.\n",
    "\n",
    "**Pros:**\n",
    "\n",
    "* **Efficient:** Linear time complexity, making it an optimal solution for this problem.\n",
    "* **Concise:** The code is relatively short and easy to read.\n",
    "* **Handles unequal lengths:** Works correctly even if the input strings have different lengths.\n",
    "\n",
    "**Cons:**\n",
    "\n",
    "* **Immutability of Strings:**  Strings in Python are immutable.  In each iteration of the `while` loop,  `sum = str(carry%2) + sum` creates a new string object. This can be slightly less efficient than appending to a list (as in the previous example) and then joining the list into a string.\n",
    "\n",
    "This code provides a good solution to the binary addition problem with efficient time complexity and clear logic. The main point to consider is the potential minor inefficiency due to string immutability."
   ]
  },
  {
   "cell_type": "code",
   "execution_count": 60,
   "metadata": {},
   "outputs": [
    {
     "name": "stdout",
     "output_type": "stream",
     "text": [
      "Sum of  ['100', '11']  is:  111\n",
      "Sum of  ['100', '100']  is:  1000\n",
      "Sum of  ['111', '1111']  is:  10110\n"
     ]
    }
   ],
   "source": [
    "def addBinary( a: str, b: str) -> str:\n",
    "    carry = 0\n",
    "    sum = \"\"\n",
    "    lena, lenb = len(a)-1, len(b)-1\n",
    "\n",
    "    while lena>=0 or lenb>=0 or carry:\n",
    "        if lena >=0:\n",
    "            carry += int(a[lena])\n",
    "        if lenb >=0:\n",
    "            carry += int(b[lenb])\n",
    "        sum = str(carry%2) +sum\n",
    "        carry //=2\n",
    "        \n",
    "        lena -=1\n",
    "        lenb -=1\n",
    "    return sum\n",
    "\n",
    "test1 = [[\"100\",\"11\"], [\"100\",\"100\"], [\"111\", \"1111\"]]\n",
    "\n",
    "for i in range(len(test1)):\n",
    "    print(\"Sum of \", test1[i], \" is: \", addBinary(test1[i][0], test1[i][1]))"
   ]
  },
  {
   "cell_type": "markdown",
   "metadata": {},
   "source": [
    "#### Method 20.2: short and precise\n",
    "\n",
    "This code provides an extremely concise solution to add two binary strings (`a` and `b`). It leverages Python's built-in functions to achieve this:\n",
    "\n",
    "1. **`int(a, 2)` and `int(b, 2)`:**  Convert the binary strings `a` and `b` into their integer representations (base 2).\n",
    "2. **`+`:**  Adds the integer values.\n",
    "3. **`bin(...)`:** Converts the resulting sum back into its binary representation (a string with the prefix \"0b\").\n",
    "4. **`[2:]`:**  Slices the binary string to remove the \"0b\" prefix, returning only the binary result.\n",
    "\n",
    "**Complexities:**\n",
    "\n",
    "* **Time Complexity:**  It's likely O(N + M) due to the conversions and addition, where N and M are the lengths of the input strings. However, the exact complexity depends on the internal implementation of the `int()` and `bin()` functions.\n",
    "* **Space Complexity:**  O(max(N, M)) - The space used is mainly for storing the result.\n",
    "\n",
    "**Pros:**\n",
    "\n",
    "* **Extremely concise and readable.**\n",
    "* **Leverages built-in functions for efficiency.**\n",
    "\n",
    "**Cons:**\n",
    "\n",
    "* **Might be less intuitive** for someone unfamiliar with Python's `bin()` and `int()` functions with base conversion.\n",
    "* **Abstraction:**  Hides the underlying binary addition logic.\n",
    "\n",
    "This one-liner provides a clever and efficient solution to the binary addition problem. It's a great example of how Python's built-in functions can be used to write clean and concise code.\n"
   ]
  },
  {
   "cell_type": "code",
   "execution_count": 61,
   "metadata": {},
   "outputs": [
    {
     "name": "stdout",
     "output_type": "stream",
     "text": [
      "Sum of  ['100', '11']  is:  111\n",
      "Sum of  ['100', '100']  is:  1000\n",
      "Sum of  ['111', '1111']  is:  10110\n"
     ]
    }
   ],
   "source": [
    "def addBinary(a: str, b: str) -> str:        \n",
    "    return bin(int(a, 2) + int(b, 2))[2:]\n",
    "\n",
    "test1 = [[\"100\",\"11\"], [\"100\",\"100\"], [\"111\", \"1111\"]]\n",
    "for i in range(len(test1)):\n",
    "    print(\"Sum of \", test1[i], \" is: \", addBinary(test1[i][0], test1[i][1]))"
   ]
  },
  {
   "attachments": {
    "image.png": {
     "image/png": "[encoded data removed]"
    }
   },
   "cell_type": "markdown",
   "metadata": {},
   "source": [
    "### 21. [Diameter of Binary Tree](https://leetcode.com/problems/diameter-of-binary-tree)\n",
    "\n",
    "Given the root of a binary tree, return the length of the diameter of the tree.\n",
    "\n",
    "The diameter of a binary tree is the length of the longest path between any two nodes in a tree. This path may or may not pass through the root.\n",
    "\n",
    "The length of a path between two nodes is represented by the number of edges between them.\n",
    "\n",
    " \n",
    "\n",
    "**Example 1:**\n",
    "\n",
    "![image.png](attachment:image.png)\n",
    "\n",
    "Input: root = [1,2,3,4,5]\n",
    "Output: 3\n",
    "Explanation: 3 is the length of the path [4,2,1,3] or [5,2,1,3].\n",
    "\n",
    "**Example 2:**\n",
    "\n",
    "Input: root = [1,2]\n",
    "Output: 1\n",
    " \n",
    "\n",
    "Constraints:\n",
    "\n",
    "The number of nodes in the tree is in the range [1, 104].\n",
    "-100 <= Node.val <= 100"
   ]
  },
  {
   "cell_type": "markdown",
   "metadata": {},
   "source": [
    "\n",
    "#### Method 21.1 : Simple recursion\n",
    "\n",
    "This code calculates the diameter of a binary tree by recursively traversing the tree and keeping track of the maximum path length between any two nodes.\n",
    "\n",
    "**Complexities:**\n",
    "\n",
    "* **Time Complexity:** O(N), where N is the number of nodes in the tree. The `depth` function visits each node once.\n",
    "* **Space Complexity:** O(H), where H is the height of the tree. This is due to the recursive calls to `depth`, which use space on the call stack. In the worst case (a skewed tree), the space complexity can be O(N).\n",
    "\n",
    "**Pros:**\n",
    "\n",
    "* **Efficient:** Linear time complexity, optimal for this problem.\n",
    "* **Clear Logic:**  The code is well-structured and easy to understand.\n",
    "\n",
    "**Cons:**\n",
    "\n",
    "* **Use of `self.diameter`:** Using a class variable (`self.diameter`) can potentially lead to unintended side effects if not managed carefully. An alternative is to pass the diameter as an argument to the `depth` function.\n",
    "\n",
    "**Output of the test case:**\n",
    "\n",
    "```\n",
    "Diameter of this tree is:  3\n",
    "```\n",
    "\n",
    "This is because the longest path in the given tree includes 3 edges: 4 -> 2 -> 1 -> 3.\n"
   ]
  },
  {
   "cell_type": "code",
   "execution_count": 62,
   "metadata": {},
   "outputs": [
    {
     "name": "stdout",
     "output_type": "stream",
     "text": [
      "Diameter of this tree is:  3\n"
     ]
    }
   ],
   "source": [
    "# Definition for a binary tree node.\n",
    "# class TreeNode:\n",
    "#     def __init__(self, val=0, left=None, right=None):\n",
    "#         self.val = val\n",
    "#         self.left = left\n",
    "#         self.right = right\n",
    "class Solution:\n",
    "    def diameterOfBinaryTree(self, root: Optional[TreeNode]) -> int:\n",
    "        self.diameter = 0  # Initialize diameter\n",
    "\n",
    "        def depth(node: TreeNode) -> int:\n",
    "            if not node:\n",
    "                return 0\n",
    "            left = depth(node.left)\n",
    "            right = depth(node.right)\n",
    "            self.diameter = max(self.diameter, left + right)  # Update diameter\n",
    "            return max(left, right) + 1\n",
    "\n",
    "        depth(root)\n",
    "        return self.diameter\n",
    "\n",
    "### Testing\n",
    "root = TreeNode(1)\n",
    "root.left = TreeNode(2)\n",
    "root.right = TreeNode(3)\n",
    "root.left.left = TreeNode(4)\n",
    "root.left.right = TreeNode(5)\n",
    "\n",
    "print(\"Diameter of this tree is: \", Solution().diameterOfBinaryTree(root))"
   ]
  },
  {
   "attachments": {
    "image-2.png": {
     "image/png": "[encoded data removed]"
    },
    "image.png": {
     "image/png": "[encoded data removed]"
    }
   },
   "cell_type": "markdown",
   "metadata": {},
   "source": [
    "### 22. [Middle of the Linked List](https://leetcode.com/problems/middle-of-the-linked-list)\n",
    "\n",
    "Given the head of a singly linked list, return the middle node of the linked list.\n",
    "\n",
    "If there are two middle nodes, return the second middle node. \n",
    "\n",
    "**Example 1:**\n",
    "\n",
    "![image.png](attachment:image.png)\n",
    "\n",
    "- Input: head = [1,2,3,4,5]\n",
    "- Output: [3,4,5]\n",
    "- Explanation: The middle node of the list is node 3.\n",
    "\n",
    "**Example 2:**\n",
    "\n",
    "![image-2.png](attachment:image-2.png)\n",
    "\n",
    "- Input: head = [1,2,3,4,5,6]\n",
    "- Output: [4,5,6]\n",
    "- Explanation: Since the list has two middle nodes with values 3 and 4, we return the second one.\n",
    " \n",
    "\n",
    "**Constraints:**\n",
    "\n",
    "The number of nodes in the list is in the range [1, 100].\n",
    "1 <= Node.val <= 100"
   ]
  },
  {
   "cell_type": "markdown",
   "metadata": {},
   "source": [
    "#### Method 22.1 Using Two pointer\n",
    "\n",
    "This code finds the middle node of a singly linked list. It uses the \"slow and fast pointer\" approach where the `fast` pointer moves twice as fast as the `slow` pointer. When the `fast` pointer reaches the end, the `slow` pointer will be at the middle.\n",
    "\n",
    "**Complexities:**\n",
    "\n",
    "* **Time Complexity:** O(N), where N is the number of nodes in the linked list. The `fast` pointer traverses the list once.\n",
    "* **Space Complexity:** O(1) - It uses a constant amount of extra space.\n",
    "\n",
    "**Pros:**\n",
    "\n",
    "* **Efficient:** Linear time complexity.\n",
    "* **In-place:** Doesn't require extra memory.\n",
    "* **Easy to understand:** The logic is relatively intuitive."
   ]
  },
  {
   "cell_type": "code",
   "execution_count": 63,
   "metadata": {},
   "outputs": [
    {
     "name": "stdout",
     "output_type": "stream",
     "text": [
      "Linked List:\n",
      "1 --> 2 --> 3 --> 4 --> 5 --> None\n",
      "Middle Node: \n",
      "3 --> 4 --> 5 --> None\n"
     ]
    }
   ],
   "source": [
    "def middleNode(head: Optional[ListNode]) -> Optional[ListNode]:\n",
    "    slow = head\n",
    "    fast = head\n",
    "    while fast and fast.next:\n",
    "        fast = fast.next.next\n",
    "        slow = slow.next\n",
    "    return slow\n",
    "\n",
    "values = [1, 2, 3, 4, 5]\n",
    "head = ListNode(0)  # Dummy head\n",
    "test1 = populate_list(head, values)\n",
    "print(\"Linked List:\")\n",
    "print_list(test1)\n",
    "\n",
    "print(\"Middle Node: \")\n",
    "print_list(middleNode(test1))"
   ]
  },
  {
   "attachments": {
    "image.png": {
     "image/png": "[encoded data removed]"
    }
   },
   "cell_type": "markdown",
   "metadata": {},
   "source": [
    "### 23. [Maximum depth of binary tree](https://leetcode.com/problems/maximum-depth-of-binary-tree)\n",
    "\n",
    "Given the root of a binary tree, return its maximum depth.\n",
    "\n",
    "A binary tree's maximum depth is the number of nodes along the longest path from the root node down to the farthest leaf node.\n",
    "\n",
    "\n",
    "**Example 1:**\n",
    "\n",
    "![image.png](attachment:image.png)\n",
    "\n",
    "- Input: root = [3,9,20,null,null,15,7]\n",
    "- Output: 3\n",
    "\n",
    "**Example 2:**\n",
    "\n",
    "- Input: root = [1,null,2]\n",
    "- Output: 2\n",
    " \n",
    "\n",
    "**Constraints:**\n",
    "\n",
    "The number of nodes in the tree is in the range [0, 104].\n",
    "-100 <= Node.val <= 100"
   ]
  },
  {
   "cell_type": "markdown",
   "metadata": {},
   "source": [
    "#### Method 23.1 DFS Recursionapproach\n",
    "\n",
    "This code calculates the maximum depth (or height) of a binary tree using recursion.\n",
    "\n",
    "**Complexities:**\n",
    "\n",
    "* **Time Complexity:** O(N), where N is the number of nodes in the binary tree. The function visits each node once.\n",
    "* **Space Complexity:** O(H), where H is the height of the tree. This is due to the recursive calls, which consume space on the call stack. In the worst case (a skewed tree), the space complexity can be O(N).\n",
    "\n",
    "**Pros:**\n",
    "\n",
    "* **Concise and readable:** The code is short and easy to understand.\n",
    "* **Efficient:**  Linear time complexity, which is optimal for this problem.\n",
    "\n",
    "**Cons:**\n",
    "\n",
    "* **Recursion overhead:**  For very deep trees, there might be a slight performance overhead due to recursive function calls. However, this is usually not a major concern for most practical scenarios.\n",
    "\n",
    "This code provides a classic and efficient recursive solution to find the maximum depth of a binary tree. It's a good example of how recursion can be used to solve tree-related problems elegantly.\n"
   ]
  },
  {
   "cell_type": "code",
   "execution_count": 64,
   "metadata": {},
   "outputs": [
    {
     "name": "stdout",
     "output_type": "stream",
     "text": [
      "Max depth of this tree is:  3\n"
     ]
    }
   ],
   "source": [
    "def maxDepth(root):\n",
    "    if not root:\n",
    "        return 0\n",
    "    return 1+ max(maxDepth(root.left), maxDepth(root.right))\n",
    "\n",
    "### Testing\n",
    "root = TreeNode(3)\n",
    "root.left = TreeNode(9)\n",
    "root.right = TreeNode(20)\n",
    "root.left.left = TreeNode(None)\n",
    "root.left.right = TreeNode(None)\n",
    "root.left.left = TreeNode(15)\n",
    "root.left.right = TreeNode(7)\n",
    "\n",
    "print(\"Max depth of this tree is: \", maxDepth(root))"
   ]
  },
  {
   "cell_type": "markdown",
   "metadata": {},
   "source": [
    "\n",
    "#### Method 23.2 DFS Iterative approach\n",
    "\n",
    "This code calculates the maximum depth (or height) of a binary tree using an iterative approach with a stack.\n",
    "\n",
    "**Complexities:**\n",
    "\n",
    "* **Time Complexity:** O(N), where N is the number of nodes in the binary tree. The code visits each node once.\n",
    "* **Space Complexity:** O(W), where W is the maximum width of the binary tree. In the worst case (a complete binary tree), W would be proportional to N/2, so the space complexity can be approximately O(N).\n",
    "\n",
    "**Pros:**\n",
    "\n",
    "* **Iterative solution:** Avoids potential recursion overhead for very deep trees.\n",
    "* **Explicit stack:**  The use of a stack makes the traversal process clear and easy to follow.\n",
    "\n",
    "**Cons:**\n",
    "\n",
    "* **Slightly more complex:**  Compared to the recursive solution, this iterative approach might be slightly less intuitive for some.\n",
    "\n",
    "This code demonstrates an effective iterative way to find the maximum depth of a binary tree. It's a good alternative to the recursive approach, especially if you want to avoid recursion or have concerns about potential stack overflow issues with very deep trees."
   ]
  },
  {
   "cell_type": "code",
   "execution_count": 65,
   "metadata": {},
   "outputs": [
    {
     "name": "stdout",
     "output_type": "stream",
     "text": [
      "Max depth of this tree is:  3\n"
     ]
    }
   ],
   "source": [
    "def maxDepthIterative(root):\n",
    "    if not root:\n",
    "        return 0\n",
    "    \n",
    "    stack = [[root, 1]]\n",
    "    max_depth = 1\n",
    "    \n",
    "    while stack:\n",
    "        node, val = stack.pop()\n",
    "        if val > max_depth:\n",
    "            max_depth = val\n",
    "        \n",
    "        if node.left:\n",
    "            stack.append([node.left, val + 1])\n",
    "        if node.right:\n",
    "            stack.append([node.right, val + 1])\n",
    "    return max_depth\n",
    "\n",
    "print(\"Max depth of this tree is: \", maxDepthIterative(root))"
   ]
  },
  {
   "cell_type": "markdown",
   "metadata": {},
   "source": [
    "#### Method 23.3 BFS Approach\n",
    "This code calculates the maximum depth (or height) of a binary tree using Breadth-First Search (BFS) with a queue.\n",
    "\n",
    "**Complexities:**\n",
    "\n",
    "* **Time Complexity:** O(N), where N is the number of nodes in the binary tree. The code visits each node once.\n",
    "* **Space Complexity:** O(W), where W is the maximum width of the binary tree. In the worst case (a complete binary tree), W would be proportional to N/2, so the space complexity can be approximately O(N).\n",
    "\n",
    "**Pros:**\n",
    "\n",
    "* **BFS approach:**  Systematically explores the tree level by level.\n",
    "* **Iterative solution:** Avoids potential recursion overhead for very deep trees.\n",
    "\n",
    "**Cons:**\n",
    "\n",
    "* **Queue management:** Requires managing a queue to keep track of nodes at each level.\n",
    "* **Space complexity:**  Can have a higher space complexity compared to the recursive DFS approach in some cases (especially for complete binary trees)."
   ]
  },
  {
   "cell_type": "code",
   "execution_count": 66,
   "metadata": {},
   "outputs": [
    {
     "name": "stdout",
     "output_type": "stream",
     "text": [
      "Max depth of this tree is:  3\n"
     ]
    }
   ],
   "source": [
    "def maxDepthBfs(root):\n",
    "    if not root: return None\n",
    "    q = deque([root])\n",
    "    level = 0\n",
    "    while q:\n",
    "        for i in range(len(q)):\n",
    "            node = q.popleft()\n",
    "            if node.left: \n",
    "                q.append(node.left)\n",
    "            if node.right: \n",
    "                q.append(node.right)\n",
    "        level +=1\n",
    "    return level\n",
    "\n",
    "print(\"Max depth of this tree is: \", maxDepthBfs(root))"
   ]
  },
  {
   "cell_type": "markdown",
   "metadata": {},
   "source": [
    "### 24. [Contains Duplicate](https://leetcode.com/problems/contains-duplicate/description/)\n",
    "Given an integer array nums, return true if any value appears at least twice in the array, and return false if every element is distinct.\n",
    "\n",
    "**Example 1:**\n",
    "\n",
    "- Input: nums = [1,2,3,1]\n",
    "\n",
    "- Output: true\n",
    "\n",
    "- Explanation:\n",
    "  - The element 1 occurs at the indices 0 and 3.\n",
    "\n",
    "Example 2:\n",
    "\n",
    "- Input: nums = [1,2,3,4]\n",
    "\n",
    "- Output: false\n",
    "\n",
    "- Explanation:\n",
    "  - All elements are distinct.\n",
    "\n",
    "Example 3:\n",
    "\n",
    "- Input: nums = [1,1,1,3,3,4,3,2,4,2]\n",
    "\n",
    "- Output: true\n",
    "\n",
    " \n",
    "\n",
    "**Constraints:**\n",
    "\n",
    "1 <= nums.length <= 105\n",
    "-109 <= nums[i] <= 109"
   ]
  },
  {
   "cell_type": "markdown",
   "metadata": {},
   "source": [
    "#### Method 24.1 Using hashmaps\n",
    "\n",
    "This code checks if a list (`nums`) contains any duplicate elements. It uses a hashmap (dictionary in Python) to keep track of the elements encountered so far.\n",
    "\n",
    "**Complexities:**\n",
    "\n",
    "* **Time Complexity:** O(N), where N is the number of elements in the list. In the average case, hashmap operations (insertion and lookup) take O(1) time.\n",
    "* **Space Complexity:** O(N) in the worst case, where all elements are distinct and are stored in the hashmap.\n",
    "\n",
    "**Pros:**\n",
    "\n",
    "* **Efficient:** Linear time complexity in the average case.\n",
    "* **Clear logic:** The use of a hashmap makes the code easy to understand.\n",
    "\n",
    "**Cons:**\n",
    "\n",
    "* **Space usage:**  Can use up to O(N) extra space to store elements in the hashmap.\n",
    "\n",
    "**Alternative (with less space):**\n",
    "\n",
    "If you want to optimize for space, you could sort the list first (O(N log N) time) and then check for adjacent duplicates (O(N) time). This would have a time complexity of O(N log N) but use only O(1) extra space.\n",
    "\n",
    "This code provides a simple and efficient solution to the \"contains duplicate\" problem using a hashmap. It's a common pattern for solving problems that involve finding duplicates or checking for the existence of elements.\n"
   ]
  },
  {
   "cell_type": "code",
   "execution_count": 67,
   "metadata": {},
   "outputs": [
    {
     "name": "stdout",
     "output_type": "stream",
     "text": [
      "Does the list [1, 2, 3, 4, 1] contains duplicates? True\n"
     ]
    }
   ],
   "source": [
    "def containsDuplicate(nums: List[int]) -> bool:\n",
    "    hashmap = {}\n",
    "    for val in nums:\n",
    "        if val in hashmap: return True\n",
    "        else:\n",
    "            hashmap[val] = + 1\n",
    "# test\n",
    "test = [1,2,3,4,1]\n",
    "print(\"Does the list\", test, \"contains duplicates?\", containsDuplicate(test))"
   ]
  },
  {
   "cell_type": "markdown",
   "metadata": {},
   "source": [
    "#### Method 24.2 Using sets\n",
    "This code checks if a list (`nums`) contains any duplicate elements by comparing the length of the original list to the length of a set created from the list.\n",
    "\n",
    "**Complexities:**\n",
    "\n",
    "* **Time Complexity:** O(N), where N is the number of elements in the list. Creating a set from a list takes O(N) time.\n",
    "* **Space Complexity:** O(N) in the worst case, where all elements are distinct and are stored in the set.\n",
    "\n",
    "**Pros:**\n",
    "\n",
    "* **Very concise:** The code is short and easy to read.\n",
    "* **Leverages built-in `set`:** Effectively uses the properties of sets to identify duplicates.\n",
    "\n",
    "**Cons:**\n",
    "\n",
    "* **Less explicit:** Might be slightly less obvious how it works compared to the hashmap approach.\n",
    "* **Space usage:** Can use up to O(N) extra space to store the set.\n",
    "\n",
    "This code provides a very concise and efficient solution to the \"contains duplicate\" problem by leveraging the properties of sets. It's a good example of how using the right data structure can simplify code and improve readability.\n"
   ]
  },
  {
   "cell_type": "code",
   "execution_count": 68,
   "metadata": {},
   "outputs": [
    {
     "name": "stdout",
     "output_type": "stream",
     "text": [
      "Does the list [1, 2, 3, 4, 1] contains duplicates? True\n"
     ]
    }
   ],
   "source": [
    "def containsDuplicateSet( nums: List[int]) -> bool:\n",
    "    if len(set(nums)) == len(nums): \n",
    "        return False\n",
    "    else: \n",
    "        return True\n",
    "    \n",
    "print(\"Does the list\", test, \"contains duplicates?\", containsDuplicateSet(test))\n",
    "\n",
    "# to make this code more efficient space wise, we can start adding element wise \n",
    "# in the set and compare if already is present there or not. \n",
    "# the worst case would be if the duplicate is at the end."
   ]
  },
  {
   "cell_type": "markdown",
   "metadata": {},
   "source": [
    "# Medium\n",
    "**(42 Questions)**"
   ]
  },
  {
   "cell_type": "markdown",
   "metadata": {},
   "source": [
    "### 1. [Maximum Subarray](https://leetcode.com/problems/maximum-subarray/description/)\n",
    "Given an integer array nums, find the \n",
    "subarray with the largest sum, and return its sum.\n",
    "\n",
    " \n",
    "\n",
    "Example 1:\n",
    "\n",
    "    Input: nums = [-2,1,-3,4,-1,2,1,-5,4]\n",
    "    Output: 6\n",
    "    Explanation: The subarray [4,-1,2,1] has the largest sum 6.\n",
    "\n",
    "Example 2:\n",
    "\n",
    "    Input: nums = [1]\n",
    "    Output: 1\n",
    "    Explanation: The subarray [1] has the largest sum 1.\n",
    "\n",
    "Example 3:\n",
    "\n",
    "    Input: nums = [5,4,-1,7,8]\n",
    "    Output: 23\n",
    "    Explanation: The subarray [5,4,-1,7,8] has the largest sum 23.\n",
    " "
   ]
  },
  {
   "cell_type": "markdown",
   "metadata": {},
   "source": [
    "#### Method 1.1 Using Kidane algorithm\n",
    "\n",
    "**Description:**\n",
    "\n",
    "This code implements Kadane's Algorithm to solve the Maximum Subarray Problem. It finds the contiguous subarray within a given array of numbers that has the largest sum.\n",
    "\n",
    "**Time and Space Complexity:**\n",
    "\n",
    "* **Time Complexity:** O(n) - The code iterates through the input array `nums` once.\n",
    "* **Space Complexity:** O(1) -  The code uses a constant amount of extra space to store variables like `sum` and `curr`.\n",
    "\n",
    "**Pros:**\n",
    "\n",
    "* **Efficient:** Kadane's Algorithm is a very efficient solution to the Maximum Subarray Problem.\n",
    "* **Simple:** The code is relatively easy to understand and implement.\n",
    "\n",
    "**Cons:**\n",
    "\n",
    "* **Not intuitive:** While the code is simple, the logic behind Kadane's Algorithm might not be immediately obvious to everyone.\n",
    "* **Handles only contiguous subarrays:** This solution specifically addresses contiguous subarrays. If you needed to find the maximum sum of any subarray (not necessarily contiguous), a different approach would be required.\n",
    "\n",
    "\n",
    "**Explanation:**\n",
    "\n",
    "The code works by maintaining two variables:\n",
    "\n",
    "* `sum`: Stores the maximum sum of a subarray encountered so far.\n",
    "* `curr`: Stores the current sum of the subarray being considered.\n",
    "\n",
    "It iterates through the array, and for each number, it decides whether to:\n",
    "\n",
    "* Start a new subarray from the current number (if the current number is greater than the sum of the current number and the previous `curr`).\n",
    "* Extend the existing subarray by adding the current number to `curr`.\n",
    "\n",
    "After each iteration, it updates `sum` if the current `curr` is greater.\n"
   ]
  },
  {
   "cell_type": "code",
   "execution_count": 69,
   "metadata": {},
   "outputs": [
    {
     "name": "stdout",
     "output_type": "stream",
     "text": [
      "maximum conigous subarray sum:  6\n"
     ]
    }
   ],
   "source": [
    "def maxSubArray(nums: List[int]) -> int:\n",
    "    sum = nums[0]\n",
    "    curr = nums[0]\n",
    "    for num in nums[1:]:\n",
    "        if num> curr+num:\n",
    "            curr = num\n",
    "        else: \n",
    "            curr += num\n",
    "        if curr> sum:\n",
    "            sum = curr\n",
    "    return sum\n",
    "\n",
    "# Same logic with conditional checks\n",
    "def maxSubArray_(nums: List[int]) -> int:\n",
    "    curr_max = global_max = nums[0] \n",
    "    for num in nums[1:]:\n",
    "        curr_max = max(num, curr_max + num)  # Update current max subarray\n",
    "        global_max = max(global_max, curr_max)  # Update global max if necessary\n",
    "    return global_max\n",
    "\n",
    "x = [-2,1,-3,4,-1,2,1,-5,4]\n",
    "print(\"maximum conigous subarray sum: \", maxSubArray(x))"
   ]
  },
  {
   "cell_type": "markdown",
   "metadata": {},
   "source": [
    "### 2. [Insert Interval](https://leetcode.com/problems/insert-interval/description/)\n",
    "\n",
    "You are given an array of non-overlapping intervals intervals where intervals[i] = [starti, endi] represent the start and the end of the ith interval and intervals is sorted in ascending order by starti. You are also given an interval newInterval = [start, end] that represents the start and end of another interval.\n",
    "\n",
    "Insert newInterval into intervals such that intervals is still sorted in ascending order by starti and intervals still does not have any overlapping intervals (merge overlapping intervals if necessary).\n",
    "\n",
    "Return intervals after the insertion.\n",
    "\n",
    "Note that you don't need to modify intervals in-place. You can make a new array and return it.\n",
    "\n",
    " \n",
    "\n",
    "Example 1:\n",
    "\n",
    "    Input: intervals = [[1,3],[6,9]], newInterval = [2,5]\n",
    "    Output: [[1,5],[6,9]]\n",
    "\n",
    "Example 2:\n",
    "\n",
    "    Input: intervals = [[1,2],[3,5],[6,7],[8,10],[12,16]], newInterval = [4,8]\n",
    "    Output: [[1,2],[3,10],[12,16]]\n",
    "    Explanation: Because the new interval [4,8] overlaps with [3,5],[6,7],[8,10].\n",
    " \n",
    "\n",
    "Constraints:\n",
    "\n",
    "    0 <= intervals.length <= 104\n",
    "    intervals[i].length == 2\n",
    "    0 <= starti <= endi <= 105\n",
    "    intervals is sorted by starti in ascending order.\n",
    "    newInterval.length == 2\n",
    "    0 <= start <= end <= 105"
   ]
  },
  {
   "cell_type": "markdown",
   "metadata": {},
   "source": [
    "#### Method 2.1 Simple Iteration\n",
    "\n",
    "This code inserts a `newInterval` into a sorted list of non-overlapping `intervals` and merges any overlapping intervals.\n",
    "\n",
    "**Time and Space Complexity:**\n",
    "\n",
    "* **Time Complexity:** O(n), where n is the number of intervals. This is because we iterate through the list of intervals at most once.\n",
    "* **Space Complexity:** O(n) in the worst-case scenario where there is no overlap and all intervals need to be added to the `merged` list.\n",
    "\n",
    "**Pros:**\n",
    "\n",
    "* **Efficient:**  The code iterates through the intervals only once, making it efficient for large input lists.\n",
    "* **Clear Logic:** The code is divided into three clear phases: adding intervals before the `newInterval`, merging overlapping intervals, and adding intervals after the `newInterval`. This makes the code easy to understand.\n",
    "\n",
    "**Cons:**\n",
    "\n",
    "* **In-place Modification:** The code modifies the `newInterval` in-place during the merging process. While this can save some space, it might not be desirable in all cases. You could create a copy of `newInterval` if you need to preserve the original.\n",
    "\n",
    "\n",
    "**Explanation:**\n",
    "\n",
    "1. **Add all intervals before the newInterval:** The code first iterates through the `intervals` list and adds all intervals that end before the `newInterval` starts to the `merged` list.\n",
    "\n",
    "2. **Merge intervals that overlap with newInterval:**  Next, it iterates through the intervals that overlap with the `newInterval`. It updates the `newInterval`'s start and end to be the minimum start and maximum end of all overlapping intervals.\n",
    "\n",
    "3. **Add the merged newInterval:** After merging all overlapping intervals, the code adds the updated `newInterval` to the `merged` list.\n",
    "\n",
    "4. **Add all intervals after the newInterval:** Finally, the code adds all remaining intervals from the `intervals` list to the `merged` list.\n",
    "\n",
    "This approach ensures that the final `merged` list contains all intervals in sorted order with no overlaps.\n"
   ]
  },
  {
   "cell_type": "code",
   "execution_count": 70,
   "metadata": {},
   "outputs": [
    {
     "name": "stdout",
     "output_type": "stream",
     "text": [
      "New intervals:  [[1, 2], [3, 10], [12, 16]]\n"
     ]
    }
   ],
   "source": [
    "def insert(intervals: List[List[int]], newInterval: List[int]) -> List[List[int]]:\n",
    "    merged = []\n",
    "    i = 0\n",
    "    n = len(intervals)\n",
    "\n",
    "    # add all intervals before the newInterval\n",
    "    while i < n and intervals[i][1] < newInterval[0]:\n",
    "        merged.append(intervals[i])\n",
    "        i += 1\n",
    "\n",
    "    # merge intervals that overlap with newInterval\n",
    "    while i < n and intervals[i][0] <= newInterval[1]:\n",
    "        newInterval[0] = min(newInterval[0], intervals[i][0])\n",
    "        newInterval[1] = max(newInterval[1], intervals[i][1])\n",
    "        i += 1\n",
    "    # niow adding the merged newInterval\n",
    "    merged.append(newInterval)\n",
    "\n",
    "    # add all intervals after the newInterval\n",
    "    while i < n:\n",
    "        merged.append(intervals[i])\n",
    "        i += 1\n",
    "\n",
    "    return merged\n",
    "\n",
    "test1 = [[1,2],[3,5],[6,7],[8,10],[12,16]] \n",
    "test2 = [4,8]\n",
    "print(\"New intervals: \", insert(test1,test2))"
   ]
  },
  {
   "cell_type": "markdown",
   "metadata": {},
   "source": [
    "# Hard\n",
    "**(9 Questions)**"
   ]
  },
  {
   "cell_type": "markdown",
   "metadata": {},
   "source": []
  }
 ],
 "metadata": {
  "kernelspec": {
   "display_name": "base",
   "language": "python",
   "name": "python3"
  },
  "language_info": {
   "codemirror_mode": {
    "name": "ipython",
    "version": 3
   },
   "file_extension": ".py",
   "mimetype": "text/x-python",
   "name": "python",
   "nbconvert_exporter": "python",
   "pygments_lexer": "ipython3",
   "version": "3.8.11"
  }
 },
 "nbformat": 4,
 "nbformat_minor": 2
}
